{
  "nbformat": 4,
  "nbformat_minor": 0,
  "metadata": {
    "colab": {
      "name": "Plot_sGA",
      "provenance": [],
      "collapsed_sections": [
        "JU9eR_BjMQ-V"
      ]
    },
    "kernelspec": {
      "name": "python3",
      "display_name": "Python 3"
    },
    "language_info": {
      "name": "python"
    }
  },
  "cells": [
    {
      "cell_type": "code",
      "metadata": {
        "id": "bvXqA11aR6No"
      },
      "source": [
        "import pandas as pd\n",
        "import numpy as np\n",
        "import matplotlib.pyplot as plt\n",
        "import matplotlib as mpl"
      ],
      "execution_count": null,
      "outputs": []
    },
    {
      "cell_type": "markdown",
      "metadata": {
        "id": "V8DQMwEJwikd"
      },
      "source": [
        "#READ DATA"
      ]
    },
    {
      "cell_type": "code",
      "metadata": {
        "id": "H40w_t_-GYEO"
      },
      "source": [
        "data_onemax_ux = pd.read_csv('onemax_ux.csv')\n",
        "data_onemax_ux.columns = ['MRPS', 'Evaluations']\n",
        "print(data_onemax_ux)"
      ],
      "execution_count": null,
      "outputs": []
    },
    {
      "cell_type": "code",
      "metadata": {
        "id": "kcD9ZW97J4TW"
      },
      "source": [
        "data_onemax_1x = pd.read_csv('onemax_1x.csv')\n",
        "data_onemax_1x.columns = ['MRPS', 'Evaluations']\n",
        "print(data_onemax_1x)"
      ],
      "execution_count": null,
      "outputs": []
    },
    {
      "cell_type": "code",
      "metadata": {
        "id": "V2Fm5YwsJ-Vl"
      },
      "source": [
        "data_trap_ux = pd.read_csv('trap_ux.csv')\n",
        "data_trap_ux.columns = ['MRPS', 'Evaluations']\n",
        "print(data_trap_ux)"
      ],
      "execution_count": null,
      "outputs": []
    },
    {
      "cell_type": "code",
      "metadata": {
        "id": "D0QVAGmqKRCd"
      },
      "source": [
        "data_trap_1x = pd.read_csv('trap_1x.csv')\n",
        "data_trap_1x.columns = ['MRPS', 'Evaluations']\n",
        "print(data_trap_1x)"
      ],
      "execution_count": null,
      "outputs": []
    },
    {
      "cell_type": "code",
      "metadata": {
        "id": "Mw1gxPI4fYFc"
      },
      "source": [
        "data_mean_onemax_ux = pd.read_csv('mean_onemax_ux.csv')\n",
        "data_mean_onemax_ux.columns = ['mean_MRPS', 'mean_Evaluations']\n",
        "print(data_mean_onemax_ux)"
      ],
      "execution_count": null,
      "outputs": []
    },
    {
      "cell_type": "code",
      "metadata": {
        "id": "i4wxji1uhzVF"
      },
      "source": [
        "data_mean_onemax_1x = pd.read_csv('mean_onemax_1x.csv')\n",
        "data_mean_onemax_1x.columns = ['mean_MRPS', 'mean_Evaluations']\n",
        "print(data_mean_onemax_1x)"
      ],
      "execution_count": null,
      "outputs": []
    },
    {
      "cell_type": "code",
      "metadata": {
        "id": "CCjfJXZHh4Kl"
      },
      "source": [
        "data_mean_trap_ux = pd.read_csv('mean_trap_ux.csv')\n",
        "data_mean_trap_ux.columns = ['mean_MRPS', 'mean_Evaluations']\n",
        "print(data_mean_trap_ux)"
      ],
      "execution_count": null,
      "outputs": []
    },
    {
      "cell_type": "code",
      "metadata": {
        "id": "S4mlAIQyh9at"
      },
      "source": [
        "data_mean_trap_1x = pd.read_csv('mean_trap_1x.csv')\n",
        "data_mean_trap_1x.columns = ['mean_MRPS', 'mean_Evaluations']\n",
        "print(data_mean_trap_1x)"
      ],
      "execution_count": null,
      "outputs": []
    },
    {
      "cell_type": "code",
      "metadata": {
        "id": "52sYd6vaANim"
      },
      "source": [
        "problem_size = np.array([10, 20, 40, 80, 160])"
      ],
      "execution_count": null,
      "outputs": []
    },
    {
      "cell_type": "markdown",
      "metadata": {
        "id": "JU9eR_BjMQ-V"
      },
      "source": [
        "# ONEMAX_UX_STD DATA\n",
        "\n"
      ]
    },
    {
      "cell_type": "code",
      "metadata": {
        "id": "CJT78XViKjHs"
      },
      "source": [
        "MRPS_UX_onemax = np.array(data_onemax_ux['MRPS']).reshape((-1, 10))\n",
        "Eval_UX_onemax = np.array(data_onemax_ux['Evaluations']).reshape((-1, 10))\n",
        "Mean_MRPS_UX_onemax = np.array(data_mean_onemax_ux['mean_MRPS']).reshape((5, 1))\n",
        "Mean_Eval_UX_onemax = np.array(data_mean_onemax_ux['mean_Evaluations']).reshape((5, 1))"
      ],
      "execution_count": null,
      "outputs": []
    },
    {
      "cell_type": "code",
      "metadata": {
        "colab": {
          "base_uri": "https://localhost:8080/"
        },
        "id": "LUME7tB0kXHm",
        "outputId": "9f0d3d2f-a44e-43f0-ea30-ec8689685962"
      },
      "source": [
        "std_MRPS = np.subtract(MRPS_UX_onemax, Mean_MRPS_UX_onemax)\n",
        "std_MRPS = np.square(std_MRPS)\n",
        "std_MRPS = np.sum(std_MRPS, axis = 1)\n",
        "std_MRPS = np.divide(std_MRPS, problem_size)\n",
        "std_MRPS_ux_onemax = np.round(np.sqrt(std_MRPS), 2).reshape((len(std_MRPS), 1))\n",
        "print(std_MRPS_ux_onemax)"
      ],
      "execution_count": null,
      "outputs": [
        {
          "output_type": "stream",
          "name": "stdout",
          "text": [
            "[[3.92]\n",
            " [4.53]\n",
            " [0.  ]\n",
            " [7.21]\n",
            " [6.8 ]]\n"
          ]
        }
      ]
    },
    {
      "cell_type": "code",
      "metadata": {
        "colab": {
          "base_uri": "https://localhost:8080/"
        },
        "id": "Jru2BdnpoonO",
        "outputId": "956d8f39-7024-467e-a37e-4ee8d0f4ee0a"
      },
      "source": [
        "std_Eval = np.subtract(Eval_UX_onemax, Mean_Eval_UX_onemax)\n",
        "std_Eval = np.square(std_Eval)\n",
        "std_Eval = np.sum(std_Eval, axis = 1)\n",
        "std_Eval = np.divide(std_Eval, problem_size)\n",
        "std_Eval_ux_onemax = np.round(np.sqrt(std_Eval), 2).reshape((len(std_Eval), 1))\n",
        "print(std_Eval_ux_onemax)"
      ],
      "execution_count": null,
      "outputs": [
        {
          "output_type": "stream",
          "name": "stdout",
          "text": [
            "[[ 28.69]\n",
            " [ 41.46]\n",
            " [  9.97]\n",
            " [141.08]\n",
            " [193.78]]\n"
          ]
        }
      ]
    },
    {
      "cell_type": "code",
      "metadata": {
        "id": "ZPO-DpNZpE9m"
      },
      "source": [
        "std_onemax_ux_data = np.hstack((std_MRPS_ux_onemax, std_Eval_ux_onemax))\n",
        "std_onemax_ux_data = pd.DataFrame(np.round(std_onemax_ux_data, 2), columns=['std_MRPS', 'std_Eval'])\n",
        "std_onemax_ux_data.to_csv(\"std_onemax_ux_data.csv\")"
      ],
      "execution_count": null,
      "outputs": []
    },
    {
      "cell_type": "code",
      "metadata": {
        "colab": {
          "base_uri": "https://localhost:8080/"
        },
        "id": "gYCyujxsskHZ",
        "outputId": "f02b884c-8ed6-4a31-cacb-966cb11f0c4b"
      },
      "source": [
        "print(std_onemax_ux_data)"
      ],
      "execution_count": null,
      "outputs": [
        {
          "output_type": "stream",
          "name": "stdout",
          "text": [
            "   std_MRPS  std_Eval\n",
            "0      3.92     28.69\n",
            "1      4.53     41.46\n",
            "2      0.00      9.97\n",
            "3      7.21    141.08\n",
            "4      6.80    193.78\n"
          ]
        }
      ]
    },
    {
      "cell_type": "markdown",
      "metadata": {
        "id": "dyyAqSQHw8Jv"
      },
      "source": [
        "#ONEMAX_1X_STD DATA"
      ]
    },
    {
      "cell_type": "code",
      "metadata": {
        "id": "OXimt78cxKjV"
      },
      "source": [
        "MRPS_1X_onemax = np.array(data_onemax_1x['MRPS']).reshape((-1, 10))\n",
        "Eval_1X_onemax = np.array(data_onemax_1x['Evaluations']).reshape((-1, 10))\n",
        "Mean_MRPS_1X_onemax = np.array(data_mean_onemax_1x['mean_MRPS']).reshape((5, 1))\n",
        "Mean_Eval_1X_onemax = np.array(data_mean_onemax_1x['mean_Evaluations']).reshape((5, 1))"
      ],
      "execution_count": null,
      "outputs": []
    },
    {
      "cell_type": "code",
      "metadata": {
        "id": "uT_Oh_HWx4Qx"
      },
      "source": [
        "std_MRPS = np.subtract(MRPS_1X_onemax, Mean_MRPS_1X_onemax)\n",
        "std_MRPS = np.square(std_MRPS)\n",
        "std_MRPS = np.sum(std_MRPS, axis = 1)\n",
        "std_MRPS = np.divide(std_MRPS, problem_size)\n",
        "std_MRPS_1x_onemax = np.round(np.sqrt(std_MRPS), 2).reshape((len(std_MRPS), 1))\n",
        "print(std_MRPS_1x_onemax)"
      ],
      "execution_count": null,
      "outputs": []
    },
    {
      "cell_type": "code",
      "metadata": {
        "id": "80cp-4dvyHWm"
      },
      "source": [
        "std_Eval = np.subtract(Eval_1X_onemax, Mean_Eval_1X_onemax)\n",
        "std_Eval = np.square(std_Eval)\n",
        "std_Eval = np.sum(std_Eval, axis = 1)\n",
        "std_Eval = np.divide(std_Eval, problem_size)\n",
        "std_Eval_ux_onemax = np.round(np.sqrt(std_Eval), 2).reshape((len(std_Eval), 1))\n",
        "print(std_Eval_1x_onemax)"
      ],
      "execution_count": null,
      "outputs": []
    },
    {
      "cell_type": "code",
      "metadata": {
        "id": "jeBBOhkNyRSN"
      },
      "source": [
        "std_onemax_1x_data = np.hstack((std_MRPS_1x_onemax, std_Eval_1x_onemax))\n",
        "std_onemax_1x_data = pd.DataFrame(np.round(std_onemax_1x_data, 2), columns=['std_MRPS', 'std_Eval'])\n",
        "std_onemax_1x_data.to_csv(\"std_onemax_1x_data.csv\")"
      ],
      "execution_count": null,
      "outputs": []
    },
    {
      "cell_type": "markdown",
      "metadata": {
        "id": "8RtMTE2jxMJd"
      },
      "source": [
        "#PLOT ONEMAX DATA"
      ]
    },
    {
      "cell_type": "code",
      "metadata": {
        "id": "7-p2p3jNxQzD"
      },
      "source": [
        "y = np.array([10, 20, 40, 80, 160])\n",
        "x1 = np.array(Mean_MRPS_UX_onemax).ravel()\n",
        "x1_error = np.array(std_MRPS_ux_onemax).ravel()\n",
        "x2 = np.array(Mean_MRPS_1X_onemax).ravel()\n",
        "x2_error = np.array(std_MRPS_1x_onemax).ravel()"
      ],
      "execution_count": null,
      "outputs": []
    },
    {
      "cell_type": "code",
      "metadata": {
        "id": "LSFLqitBIOsm"
      },
      "source": [
        "y = np.array([10, 20, 40, 80, 160])\n",
        "x1 = np.array(Mean_Eval_UX_onemax).ravel()\n",
        "x1_error = np.array(std_Eval_ux_onemax).ravel()\n",
        "x2 = np.array(Mean_Eval_1X_onemax).ravel()\n",
        "x2_error = np.array(std_Eval_1x_onemax).ravel()"
      ],
      "execution_count": null,
      "outputs": []
    },
    {
      "cell_type": "code",
      "metadata": {
        "colab": {
          "base_uri": "https://localhost:8080/",
          "height": 368
        },
        "id": "PELKREXhxbvd",
        "outputId": "fc29246b-adce-45a8-b438-eb972f056e79"
      },
      "source": [
        "figure = plt.figure(figsize=(10,5))\n",
        "plt.rcParams[\"font.size\"] = 18\n",
        "\n",
        "axes = plt.subplot(111)\n",
        "axes.plot(y[0:len(x1)] , x1, \"bo-\", color = 'IndianRed', label = 'MRPS 1x')\n",
        "axes.fill_between(y[0:len(x1)], x1 + x1_error, x1 - x1_error, color = 'IndianRed', alpha = 0.2)\n",
        "axes.plot(y[0:len(x2)] , x2, \"go-\", color = 'MediumSpringGreen', label = 'MRPS ux')\n",
        "axes.fill_between(y[0:len(x2)], x2 + x2_error, x2 - x2_error, color = 'MediumSpringGreen', alpha = 0.2)\n",
        "\n",
        "axes.set_xscale('log', basex = 2)\n",
        "axes.set_xticks([10, 20, 40, 80, 160])\n",
        "axes.get_xaxis().set_major_formatter(mpl.ticker.ScalarFormatter())\n",
        "axes.set_yscale('log', basey = 2)\n",
        "axes.minorticks_on() \n",
        "axes.tick_params(axis=\"both\", which=\"major\",direction=\"in\",length=5,width=2,top=\"on\",right=\"on\")\n",
        "axes.tick_params(axis=\"both\", which=\"minor\",direction=\"in\",length=2,width=1,top=\"on\",right=\"on\")\n",
        "\n",
        "axes.set_title(\"Errorbar\")\n",
        "axes.set_xlabel(\"Problem Size\")\n",
        "axes.set_ylabel(\"MRPS\")\n",
        "\n",
        "axes.grid()\n",
        "plt.legend(loc = 'best')\n",
        "plt.show()\n",
        "\n",
        "\n",
        "figure.savefig(\"OneMax_MRPS_UX_1X.jpg\",format=\"jpg\", dpi=300)"
      ],
      "execution_count": null,
      "outputs": [
        {
          "output_type": "display_data",
          "data": {
            "image/png": "[encoded data removed]",
            "text/plain": [
              "<Figure size 720x360 with 1 Axes>"
            ]
          },
          "metadata": {
            "needs_background": "light"
          }
        }
      ]
    },
    {
      "cell_type": "markdown",
      "metadata": {
        "id": "VNzRQU6XM3Sv"
      },
      "source": [
        "#TRAP_UX_STD DATA"
      ]
    },
    {
      "cell_type": "code",
      "metadata": {
        "id": "EKq10ywQM_D6"
      },
      "source": [
        "MRPS_UX_trap = np.array(data_trap_ux['MRPS']).reshape((-1, 10))\n",
        "Eval_UX_trap = np.array(data_trap_ux['Evaluations']).reshape((-1, 10))\n",
        "Mean_MRPS_UX_trap = np.array(data_mean_trap_ux['mean_MRPS']).reshape((len(data_mean_trap_ux['mean_MRPS']), 1))\n",
        "Mean_Eval_UX_trap = np.array(data_mean_trap_ux['mean_Evaluations']).reshape((len(data_mean_trap_ux['mean_MRPS']), 1))"
      ],
      "execution_count": null,
      "outputs": []
    },
    {
      "cell_type": "code",
      "metadata": {
        "id": "vOyMJi7FNEsf"
      },
      "source": [
        "std_MRPS = np.subtract(MRPS_UX_trap, Mean_MRPS_UX_trap)\n",
        "std_MRPS = np.square(std_MRPS)\n",
        "std_MRPS = np.sum(std_MRPS, axis = 1)\n",
        "std_MRPS = np.divide(std_MRPS, problem_size[0:len(std_MRPS)])\n",
        "std_MRPS_ux_trap = np.round(np.sqrt(std_MRPS), 2).reshape((len(std_MRPS), 1))\n",
        "print(std_MRPS_ux_trap)"
      ],
      "execution_count": null,
      "outputs": []
    },
    {
      "cell_type": "code",
      "metadata": {
        "id": "Pw1onB-HNGe1"
      },
      "source": [
        "std_Eval = np.subtract(Eval_UX_trap, Mean_Eval_UX_trap)\n",
        "std_Eval = np.square(std_Eval)\n",
        "std_Eval = np.sum(std_Eval, axis = 1)\n",
        "std_Eval = np.divide(std_Eval, problem_size[0:len(std_Eval)])\n",
        "std_Eval_ux_trap = np.round(np.sqrt(std_Eval), 2).reshape((len(std_Eval), 1))\n",
        "print(std_Eval_ux_trap)"
      ],
      "execution_count": null,
      "outputs": []
    },
    {
      "cell_type": "code",
      "metadata": {
        "id": "DfSWW-ndNHcm"
      },
      "source": [
        "std_trap_ux_data = np.hstack((std_MRPS_ux_trap, std_Eval_ux_trap))\n",
        "std_trap_ux_data = pd.DataFrame(np.round(std_trap_ux_data, 2), columns=['std_MRPS', 'std_Eval'])\n",
        "std_trap_ux_data.to_csv(\"std_trap_ux_data.csv\")"
      ],
      "execution_count": null,
      "outputs": []
    },
    {
      "cell_type": "markdown",
      "metadata": {
        "id": "sGV7drCxO8HI"
      },
      "source": [
        "#TRAP_1X_STD DATA"
      ]
    },
    {
      "cell_type": "code",
      "metadata": {
        "id": "ZFZlWpP1PExt"
      },
      "source": [
        "MRPS_1X_trap = np.array(data_trap_1x['MRPS']).reshape((-1, 10))\n",
        "Eval_1X_trap = np.array(data_trap_1x['Evaluations']).reshape((-1, 10))\n",
        "Mean_MRPS_1X_trap = np.array(data_mean_trap_1x['mean_MRPS']).reshape((len(data_mean_trap_1x['mean_MRPS']), 1))\n",
        "Mean_Eval_1X_trap = np.array(data_mean_trap_1x['mean_Evaluations']).reshape((len(data_mean_trap_1x['mean_MRPS']), 1))"
      ],
      "execution_count": null,
      "outputs": []
    },
    {
      "cell_type": "code",
      "metadata": {
        "id": "ClM5HnRIPPZP"
      },
      "source": [
        "std_MRPS = np.subtract(MRPS_1X_trap, Mean_MRPS_1X_trap)\n",
        "std_MRPS = np.square(std_MRPS)\n",
        "std_MRPS = np.sum(std_MRPS, axis = 1)\n",
        "std_MRPS = np.divide(std_MRPS, problem_size[0:len(std_MRPS)])\n",
        "std_MRPS_1x_trap = np.round(np.sqrt(std_MRPS), 2).reshape((len(std_MRPS), 1))\n",
        "print(std_MRPS_1x_trap)"
      ],
      "execution_count": null,
      "outputs": []
    },
    {
      "cell_type": "code",
      "metadata": {
        "id": "N-TwoMVNPXaV"
      },
      "source": [
        "std_Eval = np.subtract(Eval_1X_trap, Mean_Eval_1X_trap)\n",
        "std_Eval = np.square(std_Eval)\n",
        "std_Eval = np.sum(std_Eval, axis = 1)\n",
        "std_Eval = np.divide(std_Eval, problem_size[0:len(std_Eval)])\n",
        "std_Eval_1x_trap = np.round(np.sqrt(std_Eval), 2).reshape((len(std_Eval), 1))\n",
        "print(std_Eval_1x_trap)"
      ],
      "execution_count": null,
      "outputs": []
    },
    {
      "cell_type": "code",
      "metadata": {
        "id": "ajnZpptxPaSn"
      },
      "source": [
        "std_trap_1x_data = np.hstack((std_MRPS_1x_trap, std_Eval_1x_trap))\n",
        "std_trap_1x_data = pd.DataFrame(np.round(std_trap_1x_data, 2), columns=['std_MRPS', 'std_Eval'])\n",
        "std_trap_1x_data.to_csv(\"std_trap_1x_data.csv\")"
      ],
      "execution_count": null,
      "outputs": []
    },
    {
      "cell_type": "markdown",
      "metadata": {
        "id": "hs55ve04PqhR"
      },
      "source": [
        "#PLOT TRAP DATA"
      ]
    },
    {
      "cell_type": "code",
      "metadata": {
        "id": "KfWamH0aPvxV"
      },
      "source": [
        "y = np.array([10, 20, 40, 80, 160])\n",
        "x1 = np.array(Mean_MRPS_UX_trap).ravel()\n",
        "x1_error = np.array(std_MRPS_ux_trap).ravel()\n",
        "x2 = np.array(Mean_MRPS_1X_trap).ravel()\n",
        "x2_error = np.array(std_MRPS_1x_trap).ravel()"
      ],
      "execution_count": null,
      "outputs": []
    },
    {
      "cell_type": "code",
      "metadata": {
        "id": "fOuFm58IRhcn"
      },
      "source": [
        "y = np.array([10, 20, 40, 80, 160])\n",
        "x1 = np.array(Mean_Eval_UX_trap).ravel()\n",
        "x1_error = np.array(std_Eval_ux_trap).ravel()\n",
        "x2 = np.array(Mean_Eval_1X_trap).ravel()\n",
        "x2_error = np.array(std_Eval_1x_trap).ravel()"
      ],
      "execution_count": null,
      "outputs": []
    },
    {
      "cell_type": "code",
      "metadata": {
        "colab": {
          "base_uri": "https://localhost:8080/",
          "height": 368
        },
        "id": "FKNRTCX1QAJF",
        "outputId": "3ed08a4d-ab10-4c4f-f96d-0f653f0318b1"
      },
      "source": [
        "figure = plt.figure(figsize=(10,5))\n",
        "plt.rcParams[\"font.size\"] = 18\n",
        "\n",
        "axes = plt.subplot(111)\n",
        "axes.plot(y[0:len(x1)] , x1, \"bo-\", color = 'OliveDrab', label = 'Eval 1x')\n",
        "axes.fill_between(y[0:len(x1)], x1 + x1_error, x1 - x1_error, color = 'OliveDrab', alpha = 0.2)\n",
        "axes.plot(y[0:len(x2)] , x2, \"go-\", color = 'Goldenrod', label = 'Eval ux')\n",
        "axes.fill_between(y[0:len(x2)], x2 + x2_error, x2 - x2_error, color = 'Goldenrod', alpha = 0.2)\n",
        "\n",
        "axes.set_xscale('log', basex = 2)\n",
        "axes.set_xticks([10, 20, 40, 80, 160])\n",
        "axes.get_xaxis().set_major_formatter(mpl.ticker.ScalarFormatter())\n",
        "axes.set_yscale('log', basey = 2)\n",
        "axes.minorticks_on() \n",
        "axes.tick_params(axis=\"both\", which=\"major\",direction=\"in\",length=5,width=2,top=\"on\",right=\"on\")\n",
        "axes.tick_params(axis=\"both\", which=\"minor\",direction=\"in\",length=2,width=1,top=\"on\",right=\"on\")\n",
        "\n",
        "axes.set_title(\"Errorbar\")\n",
        "axes.set_xlabel(\"Problem Size\")\n",
        "axes.set_ylabel(\"Eval\")\n",
        "\n",
        "axes.grid()\n",
        "plt.legend(loc = 'best')\n",
        "plt.show()\n",
        "\n",
        "\n",
        "figure.savefig(\"Trap_Eval_UX_1X.jpg\",format=\"jpg\", dpi=300)"
      ],
      "execution_count": null,
      "outputs": [
        {
          "output_type": "display_data",
          "data": {
            "image/png": "[encoded data removed]",
            "text/plain": [
              "<Figure size 720x360 with 1 Axes>"
            ]
          },
          "metadata": {
            "needs_background": "light"
          }
        }
      ]
    }
  ]
}