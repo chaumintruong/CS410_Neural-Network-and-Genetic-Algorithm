{
  "nbformat": 4,
  "nbformat_minor": 0,
  "metadata": {
    "anaconda-cloud": {},
    "colab": {
      "name": "POPOP.ipynb",
      "provenance": [],
      "collapsed_sections": []
    },
    "interpreter": {
      "hash": "eea7e78ea1393ecc6f8341d2e72ea16df6697fc7cdcbf55aef647332e5c3cd59"
    },
    "kernelspec": {
      "display_name": "Python 3.8.8 64-bit ('base': conda)",
      "name": "python3"
    },
    "language_info": {
      "codemirror_mode": {
        "name": "ipython",
        "version": 3
      },
      "file_extension": ".py",
      "mimetype": "text/x-python",
      "name": "python",
      "nbconvert_exporter": "python",
      "pygments_lexer": "ipython3",
      "version": "3.8.8"
    }
  },
  "cells": [
    {
      "cell_type": "code",
      "metadata": {
        "id": "sJ3bhREYvb2G"
      },
      "source": [
        "# !pip install numpy\n",
        "# !pip install pandas \n",
        "# !pip install geopandas\n",
        "# !pip install matplotlib"
      ],
      "execution_count": null,
      "outputs": []
    },
    {
      "cell_type": "code",
      "metadata": {
        "collapsed": true,
        "id": "YZJ3R7zjmMLp"
      },
      "source": [
        "import numpy as np\n",
        "import pandas as pd\n",
        "from random import choice\n",
        "import time"
      ],
      "execution_count": null,
      "outputs": []
    },
    {
      "cell_type": "code",
      "metadata": {
        "id": "hUhEE84VmMLr"
      },
      "source": [
        "def initialize_population( num_individuals, num_variables ):\n",
        "    \"\"\" \n",
        "    Initialize population gồm num_individuals cá thể. Mỗi cá thể có num_parameters biến.\n",
        "    \n",
        "    Arguments:\n",
        "    num_individuals -- Số lượng cá thể\n",
        "    num_variables -- Số lượng biến\n",
        "    \n",
        "    Returns:\n",
        "    pop -- Ma trận (num_individuals, num_variables) chứa quần thể mới được khởi tạo ngẫu nhiên.\n",
        "    \"\"\"\n",
        "    ### BẮT ĐẦU CODE TỪ ĐÂY ### \n",
        "    pop = np.random.randint(2, size=(num_individuals, num_variables))\n",
        "    ### DỪNG CODE TẠI ĐÂY ###\n",
        "    return pop"
      ],
      "execution_count": null,
      "outputs": []
    },
    {
      "cell_type": "code",
      "metadata": {
        "id": "poknDwSSmMLs"
      },
      "source": [
        "def onemax( ind ):\n",
        "    \"\"\"\n",
        "    Hàm đánh giá OneMax: Đếm số bit 1 trong chuỗi nhị phân (cá thể ind).\n",
        "    \n",
        "    Arguments:\n",
        "    ind -- Cá thể cần được đánh giá.\n",
        "\n",
        "    Returns:\n",
        "    value -- Giá trị của cá thể ind.\n",
        "    \"\"\"\n",
        "    \n",
        "    ### BẮT ĐẦU CODE TỪ ĐÂY ###     \n",
        "    value =sum(ind)\n",
        "    ### DỪNG CODE TẠI ĐÂY ###\n",
        "    \n",
        "    return value"
      ],
      "execution_count": null,
      "outputs": []
    },
    {
      "cell_type": "code",
      "metadata": {
        "id": "qvFXlYWevb2R"
      },
      "source": [
        "def trap(pop, k = 5):\n",
        "    \"\"\"\n",
        "        Hàm đánh giá trap: cài đặt bẫy khi đếm số bit 1 trong chuỗi nhị phân của từng cá thể\n",
        "\n",
        "        Arguments:\n",
        "        k -- số lượng cá thể trong 1 block\n",
        "        sub_inds -- số lượng block (bẫy) có trong quần thể\n",
        "        ind -- cá thể cần được đánh giá\n",
        "\n",
        "        Returns:\n",
        "        value -- giá trị của quần thể đó \n",
        "    \"\"\"\n",
        "    sub_inds = np.reshape(pop, (len(pop) // k, k))\n",
        "    value = 0\n",
        "    for ind in sub_inds:\n",
        "        num_ones = sum(ind)\n",
        "        if num_ones == k:\n",
        "            f_trap = k\n",
        "        else:\n",
        "            f_trap = k - 1 - num_ones\n",
        "        value += f_trap\n",
        "    return value"
      ],
      "execution_count": null,
      "outputs": []
    },
    {
      "cell_type": "code",
      "metadata": {
        "id": "Q-xYm-5zmMLu"
      },
      "source": [
        "def evaluate_population(pop, opt):\n",
        "    \"\"\"\n",
        "    Hàm đánh giá tất cả cá thể trong quần thể.\n",
        "    \n",
        "    Arguments:\n",
        "    pop -- Quần thể cần được đánh giá.\n",
        "\n",
        "    Returns:\n",
        "    values -- Giá trị của tất cả các cá thể trong quần thể.\n",
        "    \"\"\" \n",
        "    ### BẮT ĐẦU CODE TỪ ĐÂY ### \n",
        "    global call_evaluate_fitness\n",
        "    call_evaluate_fitness += 1\n",
        "    \n",
        "    if opt == 'onemax':\n",
        "        values = [onemax(ind) for ind in pop]\n",
        "    if opt == 'trap':\n",
        "        values = [trap(ind) for ind in pop]\n",
        "    ### DỪNG CODE TẠI ĐÂY ###\n",
        "    \n",
        "    return values"
      ],
      "execution_count": null,
      "outputs": []
    },
    {
      "cell_type": "code",
      "metadata": {
        "id": "xdWzIquvmMLv"
      },
      "source": [
        "def better_fitness( fitness_1, fitness_2, maximization=True ):\n",
        "    \"\"\"\n",
        "    Hàm so sánh độ thích nghi của 2 cá thể.\n",
        "    \n",
        "    Arguments:\n",
        "    fitness_1 -- Độ thích nghi của cá thể 1.\n",
        "    fitness_2 -- Độ thích nghi của cá thể 2.\n",
        "    maximization -- Biến boolean cho biết bài toán đang giải thuộc dạng tối đa hoá (mặc định) hay không\n",
        "    \n",
        "    Returns:\n",
        "    True nếu fitness_1 tốt hơn fitness_2. Ngược lại, trả về False.\n",
        "    \"\"\"\n",
        "    \n",
        "    if maximization:\n",
        "        if fitness_1 > fitness_2:\n",
        "            return True\n",
        "    else:\n",
        "        if fitness_1 < fitness_2:\n",
        "            return True\n",
        "        \n",
        "    return False"
      ],
      "execution_count": null,
      "outputs": []
    },
    {
      "cell_type": "code",
      "metadata": {
        "id": "aPVYVkGwmMLv"
      },
      "source": [
        "def tournament_selection( pop, pop_fitness, selection_size, tournament_size, opt):\n",
        "    \"\"\"\n",
        "    Hàm chọn lọc cạnh tranh.\n",
        "    \n",
        "    Arguments:\n",
        "    pop -- Quần thể để thực hiện phép chọn lọc.\n",
        "    pop_fitness -- Mảng 1 chiều chứa giá trị (độ thích nghi) của từng cá thể trong quần thể. \n",
        "    selection_size -- Số lượng cá thể sẽ được chọn.\n",
        "    tournament_size -- Kích thước của tournament: Số lượng các cá thể được so sánh với nhau mỗi lần.\n",
        "    \n",
        "    Returns:\n",
        "    selected_indices -- Chỉ số của những cá thể trong quần thể pop được chọn. Chỉ số có thể được lặp lại.\n",
        "    \"\"\"\n",
        "    \n",
        "    ### BẮT ĐẦU CODE TỪ ĐÂY ### \n",
        "    num_individuals = len(pop)\n",
        "    indices = np.arange(num_individuals)\n",
        "    selected_indices = []\n",
        "    \n",
        "    while len(selected_indices) < selection_size:\n",
        "        # Đảo ngẫu nhiên thứ tự các cá thể trong quần thể.\n",
        "        np.random.shuffle(indices)  \n",
        "        for i in range(0, num_individuals // tournament_size):  \n",
        "            indice_board = indices[i*tournament_size:(i+1)*tournament_size] \n",
        "            board = [pop[ind] for ind in indice_board]\n",
        "            best_fit = np.argmax(evaluate_population(board, opt))\n",
        "            selected_indices.append(indice_board[best_fit]) \n",
        "    ### DỪNG CODE TẠI ĐÂY ###\n",
        "    return selected_indices[:selection_size]"
      ],
      "execution_count": null,
      "outputs": []
    },
    {
      "cell_type": "code",
      "metadata": {
        "id": "Ge94BH6_mMLx"
      },
      "source": [
        "def variation(pop, method): \n",
        "    \"\"\"\n",
        "    Hàm biến đổi tạo ra các cá thể con.\n",
        "    \n",
        "    Arguments:\n",
        "    pop -- Quần thể hiện tại.\n",
        "\n",
        "    Returns:\n",
        "    offspring -- Quần thể chứa các cá thể con được sinh ra.\n",
        "    \"\"\"  \n",
        "    \n",
        "    ### BẮT ĐẦU CODE TỪ ĐÂY ### \n",
        "    num_individuals = len(pop)\n",
        "    num_parameters = len(pop[0])\n",
        "    indices = np.arange(num_individuals)\n",
        "    # Đảo ngẫu nhiên thứ tự các cá thể trong quần thể\n",
        "    np.random.shuffle(indices)\n",
        "    offspring = []\n",
        "    \n",
        "    for i in range(0, num_individuals, 2): \n",
        "        idx1 = indices[i]\n",
        "        idx2 = indices[i+1]\n",
        "        offspring1 = list(pop[idx1])\n",
        "        offspring2 = list(pop[idx2])\n",
        "        \n",
        "        # CHÍNH XÁC LÀ CODE TỪ ĐÂY\n",
        "        if method == 'UX':\n",
        "            for index in range(0, len(offspring1)):\n",
        "                # Sinh xác suất ngẫu nhiên \n",
        "                prob = np.random.rand() \n",
        "                if prob > 0.5: \n",
        "                    tmp = offspring1[index]\n",
        "                    offspring1[index] = offspring2[index] \n",
        "                    offspring2[index] = tmp \n",
        "        \n",
        "        if method == '1X':\n",
        "            idx = np.random.randint(len(offspring1))\n",
        "            for idx in range(index, len(offspring1)):\n",
        "                tmp = offspring1[idx]\n",
        "                offspring1[idx] = offspring2[idx] \n",
        "                offspring2[idx] = tmp\n",
        "        # VÀ END TỪ ĐÂY \n",
        "        \n",
        "        # Cài đặt phép lai đồng nhất uniform crossover \n",
        "        # Không cần cài đặt đột biến mutation.\n",
        "\n",
        "        offspring.append(offspring1)\n",
        "        offspring.append(offspring2)\n",
        "\n",
        "\n",
        "    ### DỪNG CODE TẠI ĐÂY ###\n",
        "    offspring = np.array(offspring)\n",
        "    return offspring"
      ],
      "execution_count": null,
      "outputs": []
    },
    {
      "cell_type": "code",
      "metadata": {
        "id": "rvjlcHM5vb2Y"
      },
      "source": [
        "def convergent(pop):\n",
        "    \"\"\" \n",
        "    Hàm kiểm tra sự hội tụ của quần thể\n",
        "    \"\"\"\n",
        "    for i in range(1, len(pop)):\n",
        "        pre_ind = pop[i - 1]\n",
        "        cur_ind = pop[i]\n",
        "        \n",
        "        for j in range(len(pre_ind)):\n",
        "            if pre_ind[j] != cur_ind[j]:\n",
        "                return False\n",
        "    return True"
      ],
      "execution_count": null,
      "outputs": []
    },
    {
      "cell_type": "code",
      "metadata": {
        "id": "f48pgHskmMLy"
      },
      "source": [
        "def popop(num_individuals, num_parameters, opt, method):\n",
        "    \"\"\"\n",
        "    Hàm cài đặt thuật giải di truyền theo các bước P->O->(P+O)->P\n",
        "    \n",
        "    Arguments:\n",
        "        num_individuals -- Số lượng cá thể trong quần thể.\n",
        "        num_parameters -- Số lượng biến.\n",
        "        num_generations -- Số thế hệ thuật toán sẽ chạy.\n",
        "\n",
        "    Returns:\n",
        "        Xác nhận quần thể đã hội tụ tại cá thể tốt nhất (ind = 1)\n",
        "    \"\"\"  \n",
        "    ### BẮT ĐẦU CODE TỪ ĐÂY ### \n",
        "    # Khởi tạo quần thể\n",
        "    pop = initialize_population(num_individuals, num_parameters)\n",
        "    pop_fitness = evaluate_population(pop, opt)\n",
        "    selection_size = len(pop)\n",
        "    tournament_size = 4\n",
        "    while convergent(pop) == False:\n",
        "        # Tạo ra các cá thể con và đánh giá chúng\n",
        "        offspring = variation(pop, method)\n",
        "        offspring_fitness = evaluate_population(offspring, opt)\n",
        "        \n",
        "        # Tạo ra quần thể pool gồm quần thể hiện tại pop và offspring\n",
        "        pool = np.vstack((pop,offspring))\n",
        "        pool_fitness = np.hstack((pop_fitness, offspring_fitness))\n",
        "\n",
        "        # Thực hiện tournament selection trên quần thể pool \n",
        "        pool_indices = tournament_selection(pool, pool_fitness, selection_size, tournament_size, opt)\n",
        "        # Thay thế quần thể hiện tại bằng những cá thể được chọn ra từ pool.\n",
        "        pop = pool[pool_indices, :]\n",
        "        pop_fitness = pool_fitness[pool_indices]\n",
        "    ### DỪNG CODE TẠI ĐÂY ###\n",
        "    return np.sum(pop_fitness) == num_individuals * num_parameters"
      ],
      "execution_count": null,
      "outputs": []
    },
    {
      "cell_type": "code",
      "metadata": {
        "id": "mUJB4GPQvb2a"
      },
      "source": [
        "def initialize_random_seed(mssv):\n",
        "    \"\"\" \n",
        "        Hàm tạo bộ random_seed trong đoạn từ [mssv + 0] -> [mssv + 99]\n",
        "\n",
        "        Returns:\n",
        "            Tạo ra 10 bộ random_seed\n",
        "    \"\"\" \n",
        "    random_seed = np.array([mssv + i for i in range(0, 100)])\n",
        "    random_seed = np.reshape(random_seed, (10, 10))\n",
        "    return random_seed"
      ],
      "execution_count": null,
      "outputs": []
    },
    {
      "cell_type": "code",
      "metadata": {
        "id": "QRRbVZ9Xvb2b"
      },
      "source": [
        "def upper_bound(num_parameters, set_random_seed, opt, method):\n",
        "    \n",
        "    n_upper = 4\n",
        "    \n",
        "    while(1):\n",
        "        n_upper <<= 1\n",
        "        success = 0\n",
        "        for random_seed in set_random_seed:\n",
        "            np.random.seed(random_seed)\n",
        "            check = popop(n_upper, num_parameters, opt, method)\n",
        "            if check == True:\n",
        "                success += 1\n",
        "        if success == len(set_random_seed):\n",
        "            break\n",
        "    return n_upper"
      ],
      "execution_count": null,
      "outputs": []
    },
    {
      "cell_type": "code",
      "metadata": {
        "id": "5gxIVacFvb2c"
      },
      "source": [
        "def evaluate_MRPS(n_upper, num_parameters, set_random_seed, opt, method):\n",
        "\n",
        "    n_lower = n_upper // 2\n",
        "\n",
        "    while (n_upper - n_lower) / n_upper > 0.1:\n",
        "        n = (n_upper + n_lower) // 2\n",
        "\n",
        "        success = 0\n",
        "        global call_evaluate_fitness  \n",
        "        call_evaluate_fitness = 0\n",
        "\n",
        "        for random_seed in set_random_seed:\n",
        "            np.random.seed(random_seed)\n",
        "            check = popop(n_upper, num_parameters, opt, method)\n",
        "            if check == True:\n",
        "                success += 1\n",
        "        if success == len(set_random_seed):\n",
        "            success_MRPS = True\n",
        "    \n",
        "        if success_MRPS == True:\n",
        "            n_upper = n\n",
        "        else:\n",
        "            n_lower = n\n",
        "\n",
        "        avg_call_evaluate_fitness = call_evaluate_fitness / 10\n",
        "\n",
        "        if (n_upper - n_lower) <= 2:\n",
        "            break\n",
        "\n",
        "    return n_upper, avg_call_evaluate_fitness"
      ],
      "execution_count": null,
      "outputs": []
    },
    {
      "cell_type": "code",
      "metadata": {
        "id": "1hl8VzyEvb2c"
      },
      "source": [
        "def bisection(num_parameters, mssv, opt, method):\n",
        "   \n",
        "    set_random_seed = initialize_random_seed(mssv)\n",
        "    result = []\n",
        "    count = 0\n",
        "    \n",
        "    for collect_random_seed in set_random_seed:\n",
        "        count += 1\n",
        "        print('Running {}-th set seed'.format(count))\n",
        "        start = time.time()\n",
        "        n_upper = upper_bound(num_parameters, collect_random_seed, opt, method)\n",
        "        n, avg = evaluate_MRPS(n_upper, num_parameters, collect_random_seed, opt, method)\n",
        "        end = time.time()\n",
        "        print('Complete in {} seconds'.format(end - start))\n",
        "        print('--------------------------')\n",
        "        result.append([n, avg])\n",
        "    return result"
      ],
      "execution_count": null,
      "outputs": []
    },
    {
      "cell_type": "code",
      "metadata": {
        "colab": {
          "base_uri": "https://localhost:8080/"
        },
        "id": "Pq9AWdDiKPuj",
        "outputId": "5977aff1-d4d5-4d1e-d59c-e48946a6bfb0"
      },
      "source": [
        "call_evaluate_fitness = 0\n",
        "l = [10, 20, 40, 80, 160]\n",
        "for i in l:\n",
        "  print(i)\n",
        "  print(bisection(i, 19521281, 'onemax', 'UX'))"
      ],
      "execution_count": null,
      "outputs": [
        {
          "name": "stdout",
          "output_type": "stream",
          "text": [
            "10\n",
            "[[18, 133.3], [10, 69.9], [18, 124.9], [10, 71.2], [10, 71.2], [18, 137.5], [10, 81.6], [10, 82.9], [10, 81.6], [18, 139.6]]\n",
            "20\n",
            "[[18, 187.9], [18, 208.9], [18, 190.0], [18, 200.5], [18, 198.4], [34, 334.0], [18, 196.3], [18, 190.0], [18, 194.2], [34, 348.8]]\n",
            "40\n",
            "[[34, 541.2], [34, 552.3], [34, 500.5], [34, 556.0], [34, 537.5], [34, 504.2], [34, 519.0], [34, 500.5], [34, 511.6], [34, 522.7]]\n",
            "80\n",
            "[[68, 1475.6], [68, 1482.9], [68, 1453.7], [68, 1490.2], [68, 1424.5], [68, 1453.7], [68, 1439.1], [68, 1497.5], [68, 1548.6], [136, 2799.5]]\n",
            "160\n",
            "[[136, 4133.5], [136, 4075.5], [136, 4090.0], [136, 4119.0], [136, 4104.5], [68, 2176.4], [136, 4133.5], [136, 4133.5], [68, 2169.1], [136, 4090.0]]\n"
          ]
        }
      ]
    },
    {
      "cell_type": "code",
      "metadata": {
        "id": "BtSYhhAYiwvv"
      },
      "source": [
        "l = [10, 20, 40, 80, 160]\n",
        "opt = 'trap5'\n",
        "var = 'UX'\n",
        "\n",
        "for length in l:\n",
        "    print('-------------------{}------------------'.format(length))\n",
        "    call_evaluate_fitness = 0 \n",
        "    review = run_all_bisection(length, 19521281, opt, method)\n",
        "    \n",
        "    np.savetxt('data_{}_{}_{}.csv'.format(length, opt, method), review, delimiter=',', fmt='%.2f')"
      ],
      "execution_count": null,
      "outputs": []
    }
  ]
}