{
  "nbformat": 4,
  "nbformat_minor": 0,
  "metadata": {
    "colab": {
      "name": "MEAN_STD",
      "provenance": []
    },
    "kernelspec": {
      "name": "python3",
      "display_name": "Python 3"
    },
    "language_info": {
      "name": "python"
    }
  },
  "cells": [
    {
      "cell_type": "code",
      "metadata": {
        "id": "748diuzEpydv"
      },
      "source": [
        "import pandas as pd\n",
        "import numpy as np"
      ],
      "execution_count": 2,
      "outputs": []
    },
    {
      "cell_type": "markdown",
      "metadata": {
        "id": "Qa4_JwTVpJ5B"
      },
      "source": [
        "# Calculate MEAN and STD"
      ]
    },
    {
      "cell_type": "code",
      "metadata": {
        "colab": {
          "base_uri": "https://localhost:8080/"
        },
        "id": "hqHxkRX_o01F",
        "outputId": "512f0a30-afb3-4046-9f1f-65a185f3bb1b"
      },
      "source": [
        "random_seed = [(19521281 + i) for i in range(10)]\n",
        "mean_each_seed = []\n",
        "for seed in random_seed:\n",
        "  data = pd.read_csv('{}.csv'.format(seed))\n",
        "  data.drop(data.columns[[0]], axis=1, inplace=True)\n",
        "  data.columns = ['best_fitness', 'num_calls']\n",
        "  mean_each_seed.append(np.mean(list(data['best_fitness'])))\n",
        "  print(mean_each_seed)"
      ],
      "execution_count": 425,
      "outputs": [
        {
          "output_type": "stream",
          "name": "stdout",
          "text": [
            "[1.231012658227848]\n",
            "[1.231012658227848, 0.8997368421052631]\n",
            "[1.231012658227848, 0.8997368421052631, 1.0262666666666669]\n",
            "[1.231012658227848, 0.8997368421052631, 1.0262666666666669, 1.2344303797468357]\n",
            "[1.231012658227848, 0.8997368421052631, 1.0262666666666669, 1.2344303797468357, 0.6009411764705882]\n",
            "[1.231012658227848, 0.8997368421052631, 1.0262666666666669, 1.2344303797468357, 0.6009411764705882, 0.9087671232876713]\n",
            "[1.231012658227848, 0.8997368421052631, 1.0262666666666669, 1.2344303797468357, 0.6009411764705882, 0.9087671232876713, 1.608139534883721]\n",
            "[1.231012658227848, 0.8997368421052631, 1.0262666666666669, 1.2344303797468357, 0.6009411764705882, 0.9087671232876713, 1.608139534883721, 1.254342105263158]\n",
            "[1.231012658227848, 0.8997368421052631, 1.0262666666666669, 1.2344303797468357, 0.6009411764705882, 0.9087671232876713, 1.608139534883721, 1.254342105263158, 0.6910465116279069]\n",
            "[1.231012658227848, 0.8997368421052631, 1.0262666666666669, 1.2344303797468357, 0.6009411764705882, 0.9087671232876713, 1.608139534883721, 1.254342105263158, 0.6910465116279069, 1.2311538461538463]\n"
          ]
        }
      ]
    },
    {
      "cell_type": "markdown",
      "metadata": {
        "id": "Yp0WZW9qUPuc"
      },
      "source": [
        "# MEAN & STD"
      ]
    },
    {
      "cell_type": "markdown",
      "metadata": {
        "id": "O1IoTpFGUXO8"
      },
      "source": [
        "## Ackley "
      ]
    },
    {
      "cell_type": "markdown",
      "metadata": {
        "id": "2wQeP_LqU-N8"
      },
      "source": [
        "### N = 32\n"
      ]
    },
    {
      "cell_type": "code",
      "metadata": {
        "colab": {
          "base_uri": "https://localhost:8080/"
        },
        "id": "tMDrWDfxUWfE",
        "outputId": "6a1a462a-0f50-45ce-87e6-517af3192982"
      },
      "source": [
        "mean_32 = np.mean(mean_each_seed)\n",
        "print(round(mean_32, 3))"
      ],
      "execution_count": 335,
      "outputs": [
        {
          "output_type": "stream",
          "name": "stdout",
          "text": [
            "19.646\n"
          ]
        }
      ]
    },
    {
      "cell_type": "code",
      "metadata": {
        "colab": {
          "base_uri": "https://localhost:8080/"
        },
        "id": "hRNsdChVW0O2",
        "outputId": "f470109d-19cd-4240-ec90-bf3e9903860e"
      },
      "source": [
        "std_32 = np.std(mean_each_seed)\n",
        "print(round(std_32,3))"
      ],
      "execution_count": 336,
      "outputs": [
        {
          "output_type": "stream",
          "name": "stdout",
          "text": [
            "0.168\n"
          ]
        }
      ]
    },
    {
      "cell_type": "markdown",
      "metadata": {
        "id": "EIvJgXLgVqf9"
      },
      "source": [
        "### N = 64"
      ]
    },
    {
      "cell_type": "code",
      "metadata": {
        "colab": {
          "base_uri": "https://localhost:8080/"
        },
        "id": "ADzJVk05VGh1",
        "outputId": "f372c399-f2db-4ff4-fbff-e289f9d6e914"
      },
      "source": [
        "mean_64= np.mean(mean_each_seed)\n",
        "print(round(mean_64, 3))"
      ],
      "execution_count": 338,
      "outputs": [
        {
          "output_type": "stream",
          "name": "stdout",
          "text": [
            "19.587\n"
          ]
        }
      ]
    },
    {
      "cell_type": "code",
      "metadata": {
        "colab": {
          "base_uri": "https://localhost:8080/"
        },
        "id": "THfVjdtxf4bh",
        "outputId": "42cc7c5b-de9a-430c-e338-5c0c65952759"
      },
      "source": [
        "std_64 = np.std(mean_each_seed)\n",
        "print(round(std_64,3))"
      ],
      "execution_count": 339,
      "outputs": [
        {
          "output_type": "stream",
          "name": "stdout",
          "text": [
            "0.176\n"
          ]
        }
      ]
    },
    {
      "cell_type": "markdown",
      "metadata": {
        "id": "qNoaUPfVVvjM"
      },
      "source": [
        "### N = 128"
      ]
    },
    {
      "cell_type": "code",
      "metadata": {
        "colab": {
          "base_uri": "https://localhost:8080/"
        },
        "id": "X7OYOLdUVOqt",
        "outputId": "68a057f8-8b3b-4221-8492-11ac68323f90"
      },
      "source": [
        "mean_128 = np.mean(mean_each_seed)\n",
        "print(round(mean_128, 4))"
      ],
      "execution_count": 341,
      "outputs": [
        {
          "output_type": "stream",
          "name": "stdout",
          "text": [
            "19.6639\n"
          ]
        }
      ]
    },
    {
      "cell_type": "code",
      "metadata": {
        "colab": {
          "base_uri": "https://localhost:8080/"
        },
        "id": "uIKcWX7RgJsy",
        "outputId": "4bb13838-d642-4924-a9c5-b7bf739d1b8a"
      },
      "source": [
        "std_128 = np.std(mean_each_seed)\n",
        "print(round(std_128,4))"
      ],
      "execution_count": 342,
      "outputs": [
        {
          "output_type": "stream",
          "name": "stdout",
          "text": [
            "0.1878\n"
          ]
        }
      ]
    },
    {
      "cell_type": "markdown",
      "metadata": {
        "id": "y6Yskua8Vza9"
      },
      "source": [
        "### N = 256"
      ]
    },
    {
      "cell_type": "code",
      "metadata": {
        "colab": {
          "base_uri": "https://localhost:8080/"
        },
        "id": "zBJLNKSDVPRl",
        "outputId": "bcff0607-0ef7-49eb-eab4-126905b33a74"
      },
      "source": [
        "mean_256 = np.mean(mean_each_seed)\n",
        "print(round(mean_256, 4))"
      ],
      "execution_count": 346,
      "outputs": [
        {
          "output_type": "stream",
          "name": "stdout",
          "text": [
            "19.6292\n"
          ]
        }
      ]
    },
    {
      "cell_type": "code",
      "metadata": {
        "colab": {
          "base_uri": "https://localhost:8080/"
        },
        "id": "Bp78obHqgO4b",
        "outputId": "131fe540-a27d-4cca-b7a3-6ec01958c515"
      },
      "source": [
        "std_256 = np.std(mean_each_seed)\n",
        "print(round(std_256, 4))"
      ],
      "execution_count": 347,
      "outputs": [
        {
          "output_type": "stream",
          "name": "stdout",
          "text": [
            "0.195\n"
          ]
        }
      ]
    },
    {
      "cell_type": "markdown",
      "metadata": {
        "id": "qH5eR3NUV2cE"
      },
      "source": [
        "### N = 512"
      ]
    },
    {
      "cell_type": "code",
      "metadata": {
        "colab": {
          "base_uri": "https://localhost:8080/"
        },
        "id": "m9zTbS9wVR9M",
        "outputId": "e7b40be0-c762-4a47-f53d-e57c6dbe7a51"
      },
      "source": [
        "mean_512 = np.mean(mean_each_seed)\n",
        "print(round(mean_512, 3))"
      ],
      "execution_count": 349,
      "outputs": [
        {
          "output_type": "stream",
          "name": "stdout",
          "text": [
            "19.57\n"
          ]
        }
      ]
    },
    {
      "cell_type": "code",
      "metadata": {
        "colab": {
          "base_uri": "https://localhost:8080/"
        },
        "id": "tNIhtgf6gWpC",
        "outputId": "93e341ad-ac68-4460-bade-0da480028cd2"
      },
      "source": [
        "std_512 = np.std(mean_each_seed)\n",
        "print(round(std_512,3))"
      ],
      "execution_count": 350,
      "outputs": [
        {
          "output_type": "stream",
          "name": "stdout",
          "text": [
            "0.224\n"
          ]
        }
      ]
    },
    {
      "cell_type": "markdown",
      "metadata": {
        "id": "ewz3mgo0WEM5"
      },
      "source": [
        "### N = 1024"
      ]
    },
    {
      "cell_type": "code",
      "metadata": {
        "colab": {
          "base_uri": "https://localhost:8080/"
        },
        "id": "RY8tBRZuVRp0",
        "outputId": "18fdf019-762a-4ed2-cbaa-c510b8f3e79b"
      },
      "source": [
        "mean_1024 = np.mean(mean_each_seed)\n",
        "print(round(mean_1024, 3))"
      ],
      "execution_count": 352,
      "outputs": [
        {
          "output_type": "stream",
          "name": "stdout",
          "text": [
            "17.812\n"
          ]
        }
      ]
    },
    {
      "cell_type": "code",
      "metadata": {
        "colab": {
          "base_uri": "https://localhost:8080/"
        },
        "id": "7szXKmOCgc34",
        "outputId": "39aee774-cf7c-4f96-90f8-2549c71c37fe"
      },
      "source": [
        "std_1024 = np.std(mean_each_seed)\n",
        "print(round(std_1024,3))"
      ],
      "execution_count": 353,
      "outputs": [
        {
          "output_type": "stream",
          "name": "stdout",
          "text": [
            "5.389\n"
          ]
        }
      ]
    },
    {
      "cell_type": "markdown",
      "metadata": {
        "id": "5LvrN7eDg_uB"
      },
      "source": [
        "## Griewank"
      ]
    },
    {
      "cell_type": "markdown",
      "metadata": {
        "id": "IVqG99srhMaK"
      },
      "source": [
        "### N = 32"
      ]
    },
    {
      "cell_type": "code",
      "metadata": {
        "colab": {
          "base_uri": "https://localhost:8080/"
        },
        "id": "JJnrIA5th3ll",
        "outputId": "30a919da-b787-46c3-d2b2-65d92d17844d"
      },
      "source": [
        "mean_32 = np.mean(mean_each_seed)\n",
        "print(round(mean_32, 3))"
      ],
      "execution_count": 355,
      "outputs": [
        {
          "output_type": "stream",
          "name": "stdout",
          "text": [
            "56.364\n"
          ]
        }
      ]
    },
    {
      "cell_type": "code",
      "metadata": {
        "colab": {
          "base_uri": "https://localhost:8080/"
        },
        "id": "z2d84hQmkf9e",
        "outputId": "79933b25-bd0a-445e-80bd-682c1a8548ac"
      },
      "source": [
        "std_32 = np.std(mean_each_seed)\n",
        "print(round(std_32,3))"
      ],
      "execution_count": 356,
      "outputs": [
        {
          "output_type": "stream",
          "name": "stdout",
          "text": [
            "8.796\n"
          ]
        }
      ]
    },
    {
      "cell_type": "markdown",
      "metadata": {
        "id": "rnSpPfaSh3_q"
      },
      "source": [
        "### N = 64"
      ]
    },
    {
      "cell_type": "code",
      "metadata": {
        "colab": {
          "base_uri": "https://localhost:8080/"
        },
        "id": "sbuCCy9Hh5HD",
        "outputId": "b5f074d7-618b-400c-f6a2-31770eb4b592"
      },
      "source": [
        "mean_64= np.mean(mean_each_seed)\n",
        "print(round(mean_64, 3))"
      ],
      "execution_count": 358,
      "outputs": [
        {
          "output_type": "stream",
          "name": "stdout",
          "text": [
            "55.066\n"
          ]
        }
      ]
    },
    {
      "cell_type": "code",
      "metadata": {
        "colab": {
          "base_uri": "https://localhost:8080/"
        },
        "id": "CDLIV4Ebkkgs",
        "outputId": "a8b31239-f8db-4c6e-c59e-2dcc894044b3"
      },
      "source": [
        "std_64 = np.std(mean_each_seed)\n",
        "print(round(std_64,3))"
      ],
      "execution_count": 359,
      "outputs": [
        {
          "output_type": "stream",
          "name": "stdout",
          "text": [
            "9.927\n"
          ]
        }
      ]
    },
    {
      "cell_type": "markdown",
      "metadata": {
        "id": "DR5FWOGyh5cT"
      },
      "source": [
        "### N = 128"
      ]
    },
    {
      "cell_type": "code",
      "metadata": {
        "colab": {
          "base_uri": "https://localhost:8080/"
        },
        "id": "iiI76gBUh7ZT",
        "outputId": "66e367da-f2a2-4e46-d143-781ffc613f4a"
      },
      "source": [
        "mean_128 = np.mean(mean_each_seed)\n",
        "print(round(mean_128, 3))"
      ],
      "execution_count": 361,
      "outputs": [
        {
          "output_type": "stream",
          "name": "stdout",
          "text": [
            "55.707\n"
          ]
        }
      ]
    },
    {
      "cell_type": "code",
      "metadata": {
        "colab": {
          "base_uri": "https://localhost:8080/"
        },
        "id": "Q_FR9GUWkne5",
        "outputId": "a9c47f28-6615-4689-be9f-ba0cf28dfc8d"
      },
      "source": [
        "std_128 = np.std(mean_each_seed)\n",
        "print(round(std_128,3))"
      ],
      "execution_count": 362,
      "outputs": [
        {
          "output_type": "stream",
          "name": "stdout",
          "text": [
            "10.007\n"
          ]
        }
      ]
    },
    {
      "cell_type": "markdown",
      "metadata": {
        "id": "xJczTQg6h74C"
      },
      "source": [
        "### N = 256"
      ]
    },
    {
      "cell_type": "code",
      "metadata": {
        "colab": {
          "base_uri": "https://localhost:8080/"
        },
        "id": "l2XyTo7Qh-Hy",
        "outputId": "6e6f1808-1572-4d76-f2c5-a0091a43ad17"
      },
      "source": [
        "mean_256 = np.mean(mean_each_seed)\n",
        "print(round(mean_256, 3))"
      ],
      "execution_count": 364,
      "outputs": [
        {
          "output_type": "stream",
          "name": "stdout",
          "text": [
            "54.572\n"
          ]
        }
      ]
    },
    {
      "cell_type": "code",
      "metadata": {
        "colab": {
          "base_uri": "https://localhost:8080/"
        },
        "id": "J_1HvnwjkuRT",
        "outputId": "38c76152-f98f-4913-f902-c462744e6562"
      },
      "source": [
        "std_256 = np.std(mean_each_seed)\n",
        "print(round(std_256,3))"
      ],
      "execution_count": 365,
      "outputs": [
        {
          "output_type": "stream",
          "name": "stdout",
          "text": [
            "10.628\n"
          ]
        }
      ]
    },
    {
      "cell_type": "markdown",
      "metadata": {
        "id": "34kQ4iCjh-WK"
      },
      "source": [
        "### N = 512"
      ]
    },
    {
      "cell_type": "code",
      "metadata": {
        "colab": {
          "base_uri": "https://localhost:8080/"
        },
        "id": "h6uh99OOiAIl",
        "outputId": "3abba5cb-ef90-43f4-b409-b43568b2a358"
      },
      "source": [
        "mean_512 = np.mean(mean_each_seed)\n",
        "print(round(mean_512, 3))"
      ],
      "execution_count": 367,
      "outputs": [
        {
          "output_type": "stream",
          "name": "stdout",
          "text": [
            "56.94\n"
          ]
        }
      ]
    },
    {
      "cell_type": "code",
      "metadata": {
        "colab": {
          "base_uri": "https://localhost:8080/"
        },
        "id": "VHi_dY-7kyIb",
        "outputId": "4236c75f-e60b-4220-aae3-a43e3614d9b0"
      },
      "source": [
        "std_512 = np.std(mean_each_seed)\n",
        "print(round(std_512,3))"
      ],
      "execution_count": 368,
      "outputs": [
        {
          "output_type": "stream",
          "name": "stdout",
          "text": [
            "10.471\n"
          ]
        }
      ]
    },
    {
      "cell_type": "markdown",
      "metadata": {
        "id": "y1Q1dFA9iAZ5"
      },
      "source": [
        "### N = 1024"
      ]
    },
    {
      "cell_type": "code",
      "metadata": {
        "colab": {
          "base_uri": "https://localhost:8080/"
        },
        "id": "2onQJAokiCNs",
        "outputId": "b1695ceb-c874-4942-b6e8-f52e09ccf17f"
      },
      "source": [
        "mean_1024 = np.mean(mean_each_seed)\n",
        "print(round(mean_1024, 3))"
      ],
      "execution_count": 370,
      "outputs": [
        {
          "output_type": "stream",
          "name": "stdout",
          "text": [
            "56.297\n"
          ]
        }
      ]
    },
    {
      "cell_type": "code",
      "metadata": {
        "colab": {
          "base_uri": "https://localhost:8080/"
        },
        "id": "-Eum9Ecmk2bx",
        "outputId": "54cc3c37-ad20-4d9c-c75b-9025a9b2690b"
      },
      "source": [
        "std_1024 = np.std(mean_each_seed)\n",
        "print(round(std_1024,3))"
      ],
      "execution_count": 371,
      "outputs": [
        {
          "output_type": "stream",
          "name": "stdout",
          "text": [
            "8.632\n"
          ]
        }
      ]
    },
    {
      "cell_type": "markdown",
      "metadata": {
        "id": "0Qpqvc8liCty"
      },
      "source": [
        "## Rastrigin"
      ]
    },
    {
      "cell_type": "markdown",
      "metadata": {
        "id": "IujdOYATiF5J"
      },
      "source": [
        "### N = 32"
      ]
    },
    {
      "cell_type": "code",
      "metadata": {
        "colab": {
          "base_uri": "https://localhost:8080/"
        },
        "id": "4rSuBKrfiFC7",
        "outputId": "3123947d-6472-4e7e-8ce4-e9ab2f08ad3c"
      },
      "source": [
        "mean_32 = np.mean(mean_each_seed)\n",
        "print(round(mean_32, 3))"
      ],
      "execution_count": 373,
      "outputs": [
        {
          "output_type": "stream",
          "name": "stdout",
          "text": [
            "62.574\n"
          ]
        }
      ]
    },
    {
      "cell_type": "code",
      "metadata": {
        "colab": {
          "base_uri": "https://localhost:8080/"
        },
        "id": "NZWLhRtgk7Mz",
        "outputId": "3ec4a9c3-f0e1-40fa-dacc-8eec9897b6a4"
      },
      "source": [
        "std_32 = np.std(mean_each_seed)\n",
        "print(round(std_32,3))"
      ],
      "execution_count": 374,
      "outputs": [
        {
          "output_type": "stream",
          "name": "stdout",
          "text": [
            "20.294\n"
          ]
        }
      ]
    },
    {
      "cell_type": "markdown",
      "metadata": {
        "id": "Yx-dqEl3iIOC"
      },
      "source": [
        "### N = 64"
      ]
    },
    {
      "cell_type": "code",
      "metadata": {
        "colab": {
          "base_uri": "https://localhost:8080/"
        },
        "id": "ET6aMe3DiJ05",
        "outputId": "a55043e1-ed03-400e-93ba-808f86314e2f"
      },
      "source": [
        "mean_64= np.mean(mean_each_seed)\n",
        "print(round(mean_64, 3))"
      ],
      "execution_count": 376,
      "outputs": [
        {
          "output_type": "stream",
          "name": "stdout",
          "text": [
            "53.942\n"
          ]
        }
      ]
    },
    {
      "cell_type": "code",
      "metadata": {
        "colab": {
          "base_uri": "https://localhost:8080/"
        },
        "id": "ulwt8YOTlMET",
        "outputId": "d80313ef-0251-4545-9977-fc0a7f4f2dac"
      },
      "source": [
        "std_64 = np.std(mean_each_seed)\n",
        "print(round(std_64,3))"
      ],
      "execution_count": 377,
      "outputs": [
        {
          "output_type": "stream",
          "name": "stdout",
          "text": [
            "16.746\n"
          ]
        }
      ]
    },
    {
      "cell_type": "markdown",
      "metadata": {
        "id": "SruL7Ur3iKOi"
      },
      "source": [
        "### N = 128"
      ]
    },
    {
      "cell_type": "code",
      "metadata": {
        "colab": {
          "base_uri": "https://localhost:8080/"
        },
        "id": "IhTkFgCdiMFy",
        "outputId": "247875fd-5519-4916-cce4-09fc87fd1205"
      },
      "source": [
        "mean_128 = np.mean(mean_each_seed)\n",
        "print(round(mean_128, 3))"
      ],
      "execution_count": 379,
      "outputs": [
        {
          "output_type": "stream",
          "name": "stdout",
          "text": [
            "53.262\n"
          ]
        }
      ]
    },
    {
      "cell_type": "code",
      "metadata": {
        "colab": {
          "base_uri": "https://localhost:8080/"
        },
        "id": "6XK_J0Uslb28",
        "outputId": "50ccafba-f7b1-455f-9df0-f2762bb6edd5"
      },
      "source": [
        "std_128 = np.std(mean_each_seed)\n",
        "print(round(std_128,3))"
      ],
      "execution_count": 380,
      "outputs": [
        {
          "output_type": "stream",
          "name": "stdout",
          "text": [
            "14.391\n"
          ]
        }
      ]
    },
    {
      "cell_type": "markdown",
      "metadata": {
        "id": "poS_VyvyiMpy"
      },
      "source": [
        "### N = 256"
      ]
    },
    {
      "cell_type": "code",
      "metadata": {
        "colab": {
          "base_uri": "https://localhost:8080/"
        },
        "id": "5m1DxRxOiPZ6",
        "outputId": "c5a7e9cd-7abc-46fd-98c3-8bfaee7f38c6"
      },
      "source": [
        "mean_256 = np.mean(mean_each_seed)\n",
        "print(round(mean_256, 3))"
      ],
      "execution_count": 382,
      "outputs": [
        {
          "output_type": "stream",
          "name": "stdout",
          "text": [
            "50.071\n"
          ]
        }
      ]
    },
    {
      "cell_type": "code",
      "metadata": {
        "colab": {
          "base_uri": "https://localhost:8080/"
        },
        "id": "lJD1LZQsljJ7",
        "outputId": "fa0f8059-8180-42d1-9f12-272fe4487790"
      },
      "source": [
        "std_256 = np.std(mean_each_seed)\n",
        "print(round(std_256,3))"
      ],
      "execution_count": 383,
      "outputs": [
        {
          "output_type": "stream",
          "name": "stdout",
          "text": [
            "18.115\n"
          ]
        }
      ]
    },
    {
      "cell_type": "markdown",
      "metadata": {
        "id": "zgHsJXBYiQHT"
      },
      "source": [
        "### N = 512"
      ]
    },
    {
      "cell_type": "code",
      "metadata": {
        "colab": {
          "base_uri": "https://localhost:8080/"
        },
        "id": "wCU9b1zCicmj",
        "outputId": "45d843a4-d8bd-45a5-9625-8b53a4210ee0"
      },
      "source": [
        "mean_512 = np.mean(mean_each_seed)\n",
        "print(round(mean_512, 3))"
      ],
      "execution_count": 385,
      "outputs": [
        {
          "output_type": "stream",
          "name": "stdout",
          "text": [
            "35.219\n"
          ]
        }
      ]
    },
    {
      "cell_type": "code",
      "metadata": {
        "colab": {
          "base_uri": "https://localhost:8080/"
        },
        "id": "rol9I_YLlvC0",
        "outputId": "114fd830-996f-4b82-8db2-e007b626960e"
      },
      "source": [
        "std_512 = np.std(mean_each_seed)\n",
        "print(round(std_512,3))"
      ],
      "execution_count": 386,
      "outputs": [
        {
          "output_type": "stream",
          "name": "stdout",
          "text": [
            "11.028\n"
          ]
        }
      ]
    },
    {
      "cell_type": "markdown",
      "metadata": {
        "id": "WY2BjV8Fic75"
      },
      "source": [
        "### N = 1024"
      ]
    },
    {
      "cell_type": "code",
      "metadata": {
        "colab": {
          "base_uri": "https://localhost:8080/"
        },
        "id": "IPaNN2WGiez7",
        "outputId": "abe8ac74-665e-49d8-981f-389916d4b75b"
      },
      "source": [
        "mean_1024 = np.mean(mean_each_seed)\n",
        "print(round(mean_1024, 3))"
      ],
      "execution_count": 388,
      "outputs": [
        {
          "output_type": "stream",
          "name": "stdout",
          "text": [
            "24.719\n"
          ]
        }
      ]
    },
    {
      "cell_type": "code",
      "metadata": {
        "colab": {
          "base_uri": "https://localhost:8080/"
        },
        "id": "9IQB5zJzmLQx",
        "outputId": "82a41890-a795-48a2-acfe-3f0d18b090c3"
      },
      "source": [
        "std_1024 = np.std(mean_each_seed)\n",
        "print(round(std_1024,3))"
      ],
      "execution_count": 389,
      "outputs": [
        {
          "output_type": "stream",
          "name": "stdout",
          "text": [
            "12.689\n"
          ]
        }
      ]
    },
    {
      "cell_type": "markdown",
      "metadata": {
        "id": "mgMVwXJdignh"
      },
      "source": [
        "## Rosenbrock"
      ]
    },
    {
      "cell_type": "markdown",
      "metadata": {
        "id": "EieKIBYOikJi"
      },
      "source": [
        "### N = 32"
      ]
    },
    {
      "cell_type": "code",
      "metadata": {
        "colab": {
          "base_uri": "https://localhost:8080/"
        },
        "id": "jfKj849einI0",
        "outputId": "167995cc-ee12-4bc9-b98e-5df22846cc06"
      },
      "source": [
        "mean_32 = np.mean(mean_each_seed)\n",
        "print(round(mean_32, 3))"
      ],
      "execution_count": 393,
      "outputs": [
        {
          "output_type": "stream",
          "name": "stdout",
          "text": [
            "118.218\n"
          ]
        }
      ]
    },
    {
      "cell_type": "code",
      "metadata": {
        "colab": {
          "base_uri": "https://localhost:8080/"
        },
        "id": "6kELgDhLlFVc",
        "outputId": "9cf2c250-6849-409a-a2a1-73a894d00c90"
      },
      "source": [
        "std_32 = np.std(mean_each_seed)\n",
        "print(round(std_32,3))"
      ],
      "execution_count": 394,
      "outputs": [
        {
          "output_type": "stream",
          "name": "stdout",
          "text": [
            "71.492\n"
          ]
        }
      ]
    },
    {
      "cell_type": "markdown",
      "metadata": {
        "id": "CZW5KgCkindt"
      },
      "source": [
        "### N = 64"
      ]
    },
    {
      "cell_type": "code",
      "metadata": {
        "colab": {
          "base_uri": "https://localhost:8080/"
        },
        "id": "LMboyDi8io_j",
        "outputId": "038e5fb9-480a-4357-8ffa-a3ef3278c6b0"
      },
      "source": [
        "mean_64= np.mean(mean_each_seed)\n",
        "print(round(mean_64, 3))"
      ],
      "execution_count": 396,
      "outputs": [
        {
          "output_type": "stream",
          "name": "stdout",
          "text": [
            "118.411\n"
          ]
        }
      ]
    },
    {
      "cell_type": "code",
      "metadata": {
        "colab": {
          "base_uri": "https://localhost:8080/"
        },
        "id": "awDgXT6_lM1D",
        "outputId": "9fb08f20-d7d7-4d2f-9ad8-18c8e57a776a"
      },
      "source": [
        "std_64 = np.std(mean_each_seed)\n",
        "print(round(std_64,3))"
      ],
      "execution_count": 397,
      "outputs": [
        {
          "output_type": "stream",
          "name": "stdout",
          "text": [
            "82.479\n"
          ]
        }
      ]
    },
    {
      "cell_type": "markdown",
      "metadata": {
        "id": "BpjngDstipLK"
      },
      "source": [
        "### N = 128"
      ]
    },
    {
      "cell_type": "code",
      "metadata": {
        "colab": {
          "base_uri": "https://localhost:8080/"
        },
        "id": "9SENKDvrisQT",
        "outputId": "67b322e7-4ff6-4a3b-b5b7-91fba406fe8f"
      },
      "source": [
        "mean_128 = np.mean(mean_each_seed)\n",
        "print(round(mean_128, 3))"
      ],
      "execution_count": 399,
      "outputs": [
        {
          "output_type": "stream",
          "name": "stdout",
          "text": [
            "144.061\n"
          ]
        }
      ]
    },
    {
      "cell_type": "code",
      "metadata": {
        "colab": {
          "base_uri": "https://localhost:8080/"
        },
        "id": "iyER3fpElVa7",
        "outputId": "56faf53c-a8fe-45be-843e-1c08026b512b"
      },
      "source": [
        "std_128 = np.std(mean_each_seed)\n",
        "print(round(std_128,3))"
      ],
      "execution_count": 400,
      "outputs": [
        {
          "output_type": "stream",
          "name": "stdout",
          "text": [
            "95.769\n"
          ]
        }
      ]
    },
    {
      "cell_type": "markdown",
      "metadata": {
        "id": "SZNMs-kYisuE"
      },
      "source": [
        "### N = 256"
      ]
    },
    {
      "cell_type": "code",
      "metadata": {
        "colab": {
          "base_uri": "https://localhost:8080/"
        },
        "id": "o1eR6bGtiugu",
        "outputId": "ff2b65dd-70dc-4571-99fc-c90b1fe7ce0d"
      },
      "source": [
        "mean_256 = np.mean(mean_each_seed)\n",
        "print(round(mean_256, 3))"
      ],
      "execution_count": 402,
      "outputs": [
        {
          "output_type": "stream",
          "name": "stdout",
          "text": [
            "143.748\n"
          ]
        }
      ]
    },
    {
      "cell_type": "code",
      "metadata": {
        "colab": {
          "base_uri": "https://localhost:8080/"
        },
        "id": "vxhiawHtlkko",
        "outputId": "9d149bcd-be66-44b7-9b35-fd203d7593c9"
      },
      "source": [
        "std_256 = np.std(mean_each_seed)\n",
        "print(round(std_256,3))"
      ],
      "execution_count": 403,
      "outputs": [
        {
          "output_type": "stream",
          "name": "stdout",
          "text": [
            "71.134\n"
          ]
        }
      ]
    },
    {
      "cell_type": "markdown",
      "metadata": {
        "id": "tWOdjxuYiutC"
      },
      "source": [
        "### N = 512"
      ]
    },
    {
      "cell_type": "code",
      "metadata": {
        "colab": {
          "base_uri": "https://localhost:8080/"
        },
        "id": "iVL1MtVCiwTc",
        "outputId": "e0f98022-d35b-4f90-b947-f80ae91ecbf7"
      },
      "source": [
        "mean_512 = np.mean(mean_each_seed)\n",
        "print(round(mean_512, 3))"
      ],
      "execution_count": 405,
      "outputs": [
        {
          "output_type": "stream",
          "name": "stdout",
          "text": [
            "169.035\n"
          ]
        }
      ]
    },
    {
      "cell_type": "code",
      "metadata": {
        "colab": {
          "base_uri": "https://localhost:8080/"
        },
        "id": "Yg7RP6tPlwF7",
        "outputId": "0ca95bd8-d763-4790-816f-59ec7a776916"
      },
      "source": [
        "std_512 = np.std(mean_each_seed)\n",
        "print(round(std_512,3))"
      ],
      "execution_count": 406,
      "outputs": [
        {
          "output_type": "stream",
          "name": "stdout",
          "text": [
            "100.061\n"
          ]
        }
      ]
    },
    {
      "cell_type": "markdown",
      "metadata": {
        "id": "vYNiMnS-iwwq"
      },
      "source": [
        "### N = 1024"
      ]
    },
    {
      "cell_type": "code",
      "metadata": {
        "colab": {
          "base_uri": "https://localhost:8080/"
        },
        "id": "WKtBXYjQiyjM",
        "outputId": "0bb7c048-b5da-4c85-e46a-b47d71721182"
      },
      "source": [
        "mean_1024 = np.mean(mean_each_seed)\n",
        "print(round(mean_1024, 3))"
      ],
      "execution_count": 408,
      "outputs": [
        {
          "output_type": "stream",
          "name": "stdout",
          "text": [
            "179.658\n"
          ]
        }
      ]
    },
    {
      "cell_type": "code",
      "metadata": {
        "colab": {
          "base_uri": "https://localhost:8080/"
        },
        "id": "e-Pnvp7UmMci",
        "outputId": "280e60ae-be3b-4f2d-e575-b45072e3bc8a"
      },
      "source": [
        "std_1024 = np.std(mean_each_seed)\n",
        "print(round(std_1024,3))"
      ],
      "execution_count": 409,
      "outputs": [
        {
          "output_type": "stream",
          "name": "stdout",
          "text": [
            "118.136\n"
          ]
        }
      ]
    },
    {
      "cell_type": "markdown",
      "metadata": {
        "id": "JqCbIdF_izKF"
      },
      "source": [
        "## Sphere"
      ]
    },
    {
      "cell_type": "markdown",
      "metadata": {
        "id": "v9UveMQOi1Ds"
      },
      "source": [
        "### N = 32"
      ]
    },
    {
      "cell_type": "code",
      "metadata": {
        "colab": {
          "base_uri": "https://localhost:8080/"
        },
        "id": "IpeeYzxSi2qQ",
        "outputId": "7e0ec5ab-b0e3-4dab-dc75-d77092462980"
      },
      "source": [
        "mean_32 = np.mean(mean_each_seed)\n",
        "print(round(mean_32, 3))"
      ],
      "execution_count": 411,
      "outputs": [
        {
          "output_type": "stream",
          "name": "stdout",
          "text": [
            "2.226\n"
          ]
        }
      ]
    },
    {
      "cell_type": "code",
      "metadata": {
        "colab": {
          "base_uri": "https://localhost:8080/"
        },
        "id": "Rvu93pIylGFk",
        "outputId": "55267ea1-ff0b-4fb7-aaf5-9147d2c49776"
      },
      "source": [
        "std_32 = np.std(mean_each_seed)\n",
        "print(round(std_32,3))"
      ],
      "execution_count": 412,
      "outputs": [
        {
          "output_type": "stream",
          "name": "stdout",
          "text": [
            "0.488\n"
          ]
        }
      ]
    },
    {
      "cell_type": "markdown",
      "metadata": {
        "id": "GAHx5_NQi7l1"
      },
      "source": [
        "### N = 64"
      ]
    },
    {
      "cell_type": "code",
      "metadata": {
        "colab": {
          "base_uri": "https://localhost:8080/"
        },
        "id": "nGeOt0oZi9MK",
        "outputId": "e57858dd-fdc8-4e36-cf56-4d613fef20c2"
      },
      "source": [
        "mean_64= np.mean(mean_each_seed)\n",
        "print(round(mean_64, 3))"
      ],
      "execution_count": 414,
      "outputs": [
        {
          "output_type": "stream",
          "name": "stdout",
          "text": [
            "1.797\n"
          ]
        }
      ]
    },
    {
      "cell_type": "code",
      "metadata": {
        "colab": {
          "base_uri": "https://localhost:8080/"
        },
        "id": "mQYsRopWlN2L",
        "outputId": "ff6daa41-8d73-4819-92bc-feaca200e5e0"
      },
      "source": [
        "std_64 = np.std(mean_each_seed)\n",
        "print(round(std_64,3))"
      ],
      "execution_count": 415,
      "outputs": [
        {
          "output_type": "stream",
          "name": "stdout",
          "text": [
            "0.377\n"
          ]
        }
      ]
    },
    {
      "cell_type": "markdown",
      "metadata": {
        "id": "SwIU6YaWi9eK"
      },
      "source": [
        "### N = 128"
      ]
    },
    {
      "cell_type": "code",
      "metadata": {
        "colab": {
          "base_uri": "https://localhost:8080/"
        },
        "id": "l0mCi38mi_yD",
        "outputId": "a7f80a0f-87eb-4d2e-ffdf-c787835c4f24"
      },
      "source": [
        "mean_128 = np.mean(mean_each_seed)\n",
        "print(round(mean_128, 3))"
      ],
      "execution_count": 417,
      "outputs": [
        {
          "output_type": "stream",
          "name": "stdout",
          "text": [
            "1.476\n"
          ]
        }
      ]
    },
    {
      "cell_type": "code",
      "metadata": {
        "colab": {
          "base_uri": "https://localhost:8080/"
        },
        "id": "fYXJOBXrlWxm",
        "outputId": "29190cc1-8a5f-4a2f-be04-66f9ece1b4a6"
      },
      "source": [
        "std_128 = np.std(mean_each_seed)\n",
        "print(round(std_128,3))"
      ],
      "execution_count": 418,
      "outputs": [
        {
          "output_type": "stream",
          "name": "stdout",
          "text": [
            "0.25\n"
          ]
        }
      ]
    },
    {
      "cell_type": "markdown",
      "metadata": {
        "id": "VDYVADyWi_-C"
      },
      "source": [
        "### N = 256"
      ]
    },
    {
      "cell_type": "code",
      "metadata": {
        "colab": {
          "base_uri": "https://localhost:8080/"
        },
        "id": "sfZzxlmljB1z",
        "outputId": "96b0ab9e-8032-4359-fbd9-d85daf1e3ce8"
      },
      "source": [
        "mean_256 = np.mean(mean_each_seed)\n",
        "print(round(mean_256, 3))"
      ],
      "execution_count": 420,
      "outputs": [
        {
          "output_type": "stream",
          "name": "stdout",
          "text": [
            "1.257\n"
          ]
        }
      ]
    },
    {
      "cell_type": "code",
      "metadata": {
        "colab": {
          "base_uri": "https://localhost:8080/"
        },
        "id": "lwuoUEzAlly8",
        "outputId": "c5c660df-2a73-4bd6-9d9e-7b1c6950c4c1"
      },
      "source": [
        "std_256 = np.std(mean_each_seed)\n",
        "print(round(std_256,3))"
      ],
      "execution_count": 421,
      "outputs": [
        {
          "output_type": "stream",
          "name": "stdout",
          "text": [
            "0.233\n"
          ]
        }
      ]
    },
    {
      "cell_type": "markdown",
      "metadata": {
        "id": "GgavTk9rjCHC"
      },
      "source": [
        "### N = 512"
      ]
    },
    {
      "cell_type": "code",
      "metadata": {
        "colab": {
          "base_uri": "https://localhost:8080/"
        },
        "id": "cTcgmtYijEPy",
        "outputId": "61bcc02e-168b-4e61-c5b8-15d3114fbef7"
      },
      "source": [
        "mean_512 = np.mean(mean_each_seed)\n",
        "print(round(mean_512, 3))"
      ],
      "execution_count": 423,
      "outputs": [
        {
          "output_type": "stream",
          "name": "stdout",
          "text": [
            "1.121\n"
          ]
        }
      ]
    },
    {
      "cell_type": "code",
      "metadata": {
        "colab": {
          "base_uri": "https://localhost:8080/"
        },
        "id": "WeVhCVcMlxBT",
        "outputId": "d13bc4c2-c417-46c4-908e-efbe445e4bbb"
      },
      "source": [
        "std_512 = np.std(mean_each_seed)\n",
        "print(round(std_512,3))"
      ],
      "execution_count": 424,
      "outputs": [
        {
          "output_type": "stream",
          "name": "stdout",
          "text": [
            "0.266\n"
          ]
        }
      ]
    },
    {
      "cell_type": "markdown",
      "metadata": {
        "id": "548-dO0RjEmb"
      },
      "source": [
        "### N = 1024"
      ]
    },
    {
      "cell_type": "code",
      "metadata": {
        "colab": {
          "base_uri": "https://localhost:8080/"
        },
        "id": "ziQkKIuxjG9K",
        "outputId": "1af336df-c141-418c-c2fc-b57de7ef5e4d"
      },
      "source": [
        "mean_1024 = np.mean(mean_each_seed)\n",
        "print(round(mean_1024, 4))"
      ],
      "execution_count": 426,
      "outputs": [
        {
          "output_type": "stream",
          "name": "stdout",
          "text": [
            "1.0686\n"
          ]
        }
      ]
    },
    {
      "cell_type": "code",
      "metadata": {
        "colab": {
          "base_uri": "https://localhost:8080/"
        },
        "id": "BDGKkmAtmNaQ",
        "outputId": "2726f0ff-7be2-43c6-dd35-5cd280f565e7"
      },
      "source": [
        "std_1024 = np.std(mean_each_seed)\n",
        "print(round(std_1024, 4))"
      ],
      "execution_count": 427,
      "outputs": [
        {
          "output_type": "stream",
          "name": "stdout",
          "text": [
            "0.2869\n"
          ]
        }
      ]
    }
  ]
}