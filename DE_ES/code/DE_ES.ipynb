{
 "cells": [
  {
   "cell_type": "markdown",
   "metadata": {},
   "source": [
    "## Bước 1: Gọi các thư viện hỗ trợ"
   ]
  },
  {
   "cell_type": "code",
   "execution_count": 1,
   "metadata": {},
   "outputs": [],
   "source": [
    "import os\n",
    "import time\n",
    "import glob\n",
    "import math\n",
    "import json\n",
    "import numpy as np \n",
    "import matplotlib.pyplot as plt\n",
    "\n",
    "from PIL import Image\n",
    "from matplotlib import cm\n",
    "from mpl_toolkits.mplot3d import Axes3D"
   ]
  },
  {
   "cell_type": "markdown",
   "metadata": {},
   "source": [
    "## Bước 2: Khởi tạo kích thước quần thể & số lượng biến "
   ]
  },
  {
   "cell_type": "code",
   "execution_count": 2,
   "metadata": {},
   "outputs": [],
   "source": [
    "def initialize_population(num_individual, num_variable, option, algorithm, random_seed): \n",
    "    \"\"\"\n",
    "    Hàm khởi tạo quần thể: \n",
    "\n",
    "    \n",
    "    \"\"\"\n",
    "    np.random.seed(random_seed)\n",
    "    if option == 'sphere' or option == 'rastrigin':\n",
    "        bounds = np.asarray([(-5.12, 5.12) for i in range(num_variable)])\n",
    "    if option == 'rosenbrock':\n",
    "        bounds = np.asarray([(-5.0, 10.0) for i in range(num_variable)])\n",
    "    if option == 'griewank':\n",
    "        bounds = np.asarray([(-600.0, 600.0) for i in range(num_variable)])\n",
    "    if option == 'ackley':\n",
    "        bounds = np.asarray([(-32.768, 32.768) for i in range(num_variable)]) \n",
    "\n",
    "    if algorithm == 'de':\n",
    "        pop = bounds[:, 0] + (np.random.rand(num_individual, len(bounds)) * (bounds[:, 1] - bounds[:, 0]))\n",
    "    if algorithm == 'es':\n",
    "        pop = bounds[:, 0] + (np.random.rand(len(bounds)) * (bounds[:, 1] - bounds[:, 0]))\n",
    "    return pop, bounds"
   ]
  },
  {
   "cell_type": "markdown",
   "metadata": {},
   "source": [
    "## Bước 3: Chuẩn bị các hàm mục tiêu"
   ]
  },
  {
   "cell_type": "markdown",
   "metadata": {},
   "source": [
    "### Hàm sphere function"
   ]
  },
  {
   "cell_type": "markdown",
   "metadata": {},
   "source": [
    "<p align=\"center\">\n",
    "<img \n",
    "    src=\"https://www.sfu.ca/~ssurjano/spheref.png\"\n",
    "    width=\"400\" \n",
    "    height=\"300\"/>\n",
    "</p>"
   ]
  },
  {
   "cell_type": "markdown",
   "metadata": {},
   "source": [
    "<p align=\"center\">\n",
    "    <img src=\"https://latex.codecogs.com/svg.image?f(x)&space;=&space;\\sum_{i&space;=&space;1}^{n}{x_{i}^{2}}\" title=\"f(x) = \\sum_{i = 1}^{n}{x_{i}^{2}}\"/>\n",
    "</p>"
   ]
  },
  {
   "cell_type": "code",
   "execution_count": 372,
   "metadata": {},
   "outputs": [],
   "source": [
    "def sphere_function(ind): \n",
    "    \"\"\"\n",
    "    Hàm mục tiêu sphere_function\n",
    "\n",
    "    Arguments: \n",
    "        ind: \n",
    "            Cho biết gen của cá thể ind: \n",
    "            Ví dụ: \n",
    "            ind = [1.0, 1.4, 6.4]\n",
    "\n",
    "    Output: \n",
    "        Trả về một số nguyên dương sau khi được tính toán bởi hàm sphere_function\n",
    "        Ví dụ: \n",
    "        1.31514134114    \n",
    "    \"\"\"\n",
    "    result = 0\n",
    "    for idx in range(0, len(ind)):\n",
    "        result = result + (ind[idx] ** 2)\n",
    "    return result"
   ]
  },
  {
   "cell_type": "markdown",
   "metadata": {},
   "source": [
    "### Hàm rastrigin function"
   ]
  },
  {
   "cell_type": "markdown",
   "metadata": {},
   "source": [
    "<p align=\"center\">\n",
    "<img \n",
    "    src=\"https://www.sfu.ca/~ssurjano/rastr.png\"\n",
    "    width=\"400\" \n",
    "    height=\"300\"/>\n",
    "</p>"
   ]
  },
  {
   "cell_type": "markdown",
   "metadata": {},
   "source": [
    "<p align=\"center\">\n",
    "    <img src=\"https://latex.codecogs.com/svg.image?f(x)&space;=&space;10d&space;&plus;&space;\\sum_{i=1}^{d}{\\[x_{i}^{2}&space;-&space;10cos(2\\pi&space;x_{i})\\]}\" title=\"f(x) = 10d + \\sum_{i=1}^{d}{\\[x_{i}^{2} - 10cos(2\\pi x_{i})\\]}\" />\n",
    "</p>"
   ]
  },
  {
   "cell_type": "code",
   "execution_count": 373,
   "metadata": {},
   "outputs": [],
   "source": [
    "def rastrigin_function(ind): \n",
    "    \"\"\" \n",
    "    Hàm mục tiêu rastrigin\n",
    "\n",
    "    Arguments: \n",
    "        ind: \n",
    "            Cho biết gen của cá thể ind: \n",
    "            Ví dụ: \n",
    "            ind = [1.0, 1.4, 6.4]\n",
    "\n",
    "    Output: \n",
    "        Trả về một số nguyên dương sau khi được tính toán bởi hàm rastrigin_function\n",
    "        Ví dụ: \n",
    "        1.31514134114   \n",
    "    \"\"\" \n",
    "    result = 0\n",
    "    for idx in range(0, len(ind)):\n",
    "        result += (ind[idx]**2 - 10*math.cos(2*math.pi*ind[idx]))\n",
    "    return result + 10*len(ind)"
   ]
  },
  {
   "cell_type": "markdown",
   "metadata": {},
   "source": [
    "### Hàm rosenbrock function"
   ]
  },
  {
   "cell_type": "markdown",
   "metadata": {},
   "source": [
    "<p align=\"center\">\n",
    "<img \n",
    "    src=\"https://www.sfu.ca/~ssurjano/rosen.png\"\n",
    "    width=\"400\" \n",
    "    height=\"300\"/>\n",
    "</p>"
   ]
  },
  {
   "cell_type": "markdown",
   "metadata": {},
   "source": [
    "<p align=\"center\">\n",
    "    <img src=\"https://latex.codecogs.com/svg.image?f(x)&space;=&space;\\sum_{i=1}^{d-1}{\\[100(x_{i&plus;1}-x_{i}^{2})^{2}&space;&plus;&space;(x_{i}&space;-&space;1)^{2}&space;\\]}\" title=\"f(x) = \\sum_{i=1}^{d-1}{\\[100(x_{i+1}-x_{i}^{2})^{2} + (x_{i} - 1)^{2} \\]}\" />\n",
    "</p>"
   ]
  },
  {
   "cell_type": "code",
   "execution_count": 374,
   "metadata": {},
   "outputs": [],
   "source": [
    "def rosenbrock_function(ind): \n",
    "    \"\"\" \n",
    "    Hàm mục tiêu rosenbrock\n",
    "\n",
    "    Arguments: \n",
    "        ind: \n",
    "            Cho biết gen của cá thể ind: \n",
    "            Ví dụ: \n",
    "            ind = [1.0, 1.4, 6.4]\n",
    "\n",
    "    Output: \n",
    "        Trả về một số nguyên dương sau khi được tính toán bởi hàm rosenbrock_function\n",
    "        Ví dụ: \n",
    "        1.31514134114   \n",
    "    \"\"\" \n",
    "    result = 0\n",
    "    for idx in range(0, len(ind) - 1):\n",
    "        result += 100*(ind[idx + 1] - ind[idx]**2)**2 + (ind[idx] - 1)**2\n",
    "    return result   "
   ]
  },
  {
   "cell_type": "markdown",
   "metadata": {},
   "source": [
    "### Hàm Griewank function"
   ]
  },
  {
   "cell_type": "markdown",
   "metadata": {},
   "source": [
    "<p align=\"center\">\n",
    "<img \n",
    "    src=\"https://www.sfu.ca/~ssurjano/griewank.png\"\n",
    "    width=\"400\" \n",
    "    height=\"300\"/>\n",
    "</p>"
   ]
  },
  {
   "cell_type": "markdown",
   "metadata": {},
   "source": [
    "<p align=\"center\">\n",
    "    <img src=\"https://latex.codecogs.com/svg.image?f(x)&space;=&space;\\sum_{i=1}^{d}{\\dfrac{x_{i}^{2}}{4000}&space;-&space;\\prod_{i=1}^{d}{cos{\\left(\\dfrac{x_{i}}{\\sqrt{i}}\\right)}&space;&plus;&space;1}}\" title=\"f(x) = \\sum_{i=1}^{d}{\\dfrac{x_{i}^{2}}{4000} - \\prod_{i=1}^{d}{cos{\\left(\\dfrac{x_{i}}{\\sqrt{i}}\\right)} + 1}}\" />\n",
    "</p>"
   ]
  },
  {
   "cell_type": "code",
   "execution_count": 375,
   "metadata": {},
   "outputs": [],
   "source": [
    "def griewank_function(ind): \n",
    "    \"\"\" \n",
    "    Hàm mục tiêu Griewank\n",
    "\n",
    "    Arguments: \n",
    "        ind: \n",
    "            Cho biết gen của cá thể ind: \n",
    "            Ví dụ: \n",
    "            ind = [1.0, 1.4, 6.4]\n",
    "\n",
    "    Output: \n",
    "        Trả về một số nguyên dương sau khi được tính toán bởi hàm griewank_function\n",
    "        Ví dụ: \n",
    "        1.31514134114   \n",
    "    \"\"\" \n",
    "    result_a = 0 \n",
    "    result_b = 1\n",
    "    for idx in range(0, len(ind)):\n",
    "        result_a += (ind[idx]**2)/4000\n",
    "    \n",
    "    for idx in range(0, len(ind)): \n",
    "        result_b *= math.cos(ind[idx] / math.sqrt(idx + 1))\n",
    "\n",
    "    return result_a - result_b + 1"
   ]
  },
  {
   "cell_type": "markdown",
   "metadata": {},
   "source": [
    "### Hàm ackley function"
   ]
  },
  {
   "cell_type": "markdown",
   "metadata": {},
   "source": [
    "<p align=\"center\">\n",
    "<img \n",
    "    src=\"https://www.sfu.ca/~ssurjano/ackley.png\"\n",
    "    width=\"400\" \n",
    "    height=\"300\"/>\n",
    "</p>"
   ]
  },
  {
   "cell_type": "markdown",
   "metadata": {},
   "source": [
    "<p align=\"center\">\n",
    "    <img src=\"https://latex.codecogs.com/svg.image?f(x)&space;=&space;-a&space;\\exp{\\left(-b&space;\\sqrt{\\dfrac{1}{d}&space;\\sum_{i=1}^{d}{x_{i}^{2}}}&space;\\right)}&space;-&space;\\exp{\\left(\\dfrac{1}{d}&space;\\sum_{i=1}^{d}{cos\\left(cx_{i}\\right)}&space;&space;\\right)}&space;&plus;&space;a&plus;&space;\\exp{\\left(1\\right)}\" title=\"f(x) = -a \\exp{\\left(-b \\sqrt{\\dfrac{1}{d} \\sum_{i=1}^{d}{x_{i}^{2}}} \\right)} - \\exp{\\left(\\dfrac{1}{d} \\sum_{i=1}^{d}{cos\\left(cx_{i}\\right)} \\right)} + a+ \\exp{\\left(1\\right)}\" />\n",
    "</p>"
   ]
  },
  {
   "cell_type": "code",
   "execution_count": 376,
   "metadata": {},
   "outputs": [],
   "source": [
    "def ackley_function(ind , a=20, b=0.2, c=2*math.pi): \n",
    "    \"\"\" \n",
    "    Hàm mục tiêu Ackley\n",
    "\n",
    "    Arguments: \n",
    "        ind: \n",
    "            Cho biết gen của cá thể ind: \n",
    "            Ví dụ: \n",
    "            ind = [1.0, 1.4, 6.4]\n",
    "        a: \n",
    "            Mặc định bằng 20. \n",
    "        b: \n",
    "            Mặc định bằng 0.2.  \n",
    "        c: \n",
    "            Mặc định bằng 2*pi. \n",
    "            \n",
    "    Output: \n",
    "        Trả về một số nguyên dương sau khi được tính toán bởi hàm ackley_function\n",
    "        Ví dụ: \n",
    "        1.31514134114   \n",
    "    \"\"\" \n",
    "    sum_1 = 0\n",
    "    sum_2 = 0\n",
    "    for idx in range(0, len(ind)):\n",
    "        sum_1 += ind[idx]**2\n",
    "        sum_2 += math.cos(c*ind[idx])\n",
    "    term_1 = -a*math.exp(-b*math.sqrt(sum_1/len(ind)))\n",
    "    term_2 = -math.exp(sum_2/len(ind))\n",
    "    return term_1 + term_2 + a + math.exp(1)"
   ]
  },
  {
   "cell_type": "markdown",
   "metadata": {},
   "source": [
    "### Hàm ước lượng độ thích nghi của cá thể"
   ]
  },
  {
   "cell_type": "code",
   "execution_count": 377,
   "metadata": {},
   "outputs": [],
   "source": [
    "def evaluate_individual(ind, option):\n",
    "    global accumulative_call\n",
    "    accumulative_call += 1\n",
    "    if option == 'sphere':\n",
    "        result = sphere_function(ind)\n",
    "    if option == 'rastrigin':\n",
    "        result = rastrigin_function(ind)\n",
    "    if option == 'rosenbrock':\n",
    "        result = rosenbrock_function(ind)\n",
    "    if option == 'griewank':\n",
    "        result = griewank_function(ind)\n",
    "    if option == 'ackley':\n",
    "        result = ackley_function(ind)\n",
    "    return result "
   ]
  },
  {
   "cell_type": "markdown",
   "metadata": {},
   "source": [
    "### Hàm ước lượng độ thích nghi của quần thể"
   ]
  },
  {
   "cell_type": "code",
   "execution_count": 378,
   "metadata": {},
   "outputs": [],
   "source": [
    "def evaluate_population(pop, option, algorithm): \n",
    "    if algorithm == 'es':\n",
    "        global accumulative_call\n",
    "        accumulative_call += len(pop)\n",
    "    if option == 'sphere':\n",
    "        result = [sphere_function(ind) for ind in pop]\n",
    "    if option == 'rastrigin':\n",
    "        result = [rastrigin_function(ind) for ind in pop]\n",
    "    if option == 'rosenbrock':\n",
    "        result = [rosenbrock_function(ind) for ind in pop]\n",
    "    if option == 'griewank':\n",
    "        result = [griewank_function(ind) for ind in pop]\n",
    "    if option == 'ackley':\n",
    "        result = [ackley_function(ind) for ind in pop]\n",
    "    return result"
   ]
  },
  {
   "cell_type": "markdown",
   "metadata": {},
   "source": [
    "## Bước 4: Khởi tạo hàm lưu trữ thông tin"
   ]
  },
  {
   "cell_type": "code",
   "execution_count": 379,
   "metadata": {},
   "outputs": [],
   "source": [
    "def tocsv(result, num_individual, num_variable, option, random_seed, algorithm):\n",
    "    src = './data/{}/{}/{}/{}/'.format(algorithm, num_variable, option, num_individual)\n",
    "    if os.path.exists(src) == False:\n",
    "        os.makedirs(src)\n",
    "    json_file = open(src+'{}.json'.format(random_seed), 'w')\n",
    "    print('Storing to', src + '{}.json'.format(random_seed))\n",
    "    json.dump(result, json_file, indent=4)"
   ]
  },
  {
   "cell_type": "markdown",
   "metadata": {},
   "source": [
    "## Bước 5: Khởi tạo hàm trực quan hóa quá trình tiến hóa"
   ]
  },
  {
   "cell_type": "code",
   "execution_count": 380,
   "metadata": {},
   "outputs": [],
   "source": [
    "def visualise(pop, algorithm, iteration, num_individual, option, seed):\n",
    "    \"\"\"\n",
    "    Hàm visualse - Trực quan hóa quá trình di chuyển của các cá thể. \n",
    "\n",
    "    Arguments: \n",
    "        pop: \n",
    "            Cho biết vị trí mỗi các thể đang đứng tại đâu. \n",
    "        \n",
    "        iteration: \n",
    "            Cho biết thế hệ của quần thể đang được trực quan hóa. \n",
    "\n",
    "        target_function: \n",
    "            Cho biết hàm mục tiêu đang được sử dụng là hàm nào.\n",
    "    \n",
    "    Output: \n",
    "        Hàm sẽ lưu một file ảnh *.png với địa chỉ sau: \n",
    "            './visualise/<Tên hàm mục tiêu>/<Kích thước quần thể>/iteration_<lần iteration bao nhiêu>.png\"\n",
    "        \n",
    "        Ví dụ: \n",
    "            +visualse: \n",
    "                +sphere: \n",
    "                    +32: \n",
    "                        +iteration_0.png\n",
    "                        +iteration_1.png\n",
    "                        ...\n",
    "                    +64: \n",
    "                        +iteration_0.png\n",
    "                        ...\n",
    "                +rastrigin: \n",
    "                    +32: \n",
    "                        +iteration_0.png\n",
    "                        +iteration_1.png\n",
    "    \"\"\"\n",
    "    fig = plt.figure(num=1, clear=True)\n",
    "    ax = fig.add_subplot(1, 1)\n",
    "    \n",
    "    if option == 'sphere':\n",
    "        (x, y) = np.meshgrid((np.arange(-8, 8, 0.01), np.arange(-8, 8, 0.01))\n",
    "        z = sphere_function([x, y])\n",
    "    if option == 'rastrigin':\n",
    "        (x, y) = np.meshgrid((np.arange(-4, 4, 0.1), np.arange(-4, 4, 0.1))\n",
    "        z = rastrigin_function([x, y])\n",
    "    if option == 'rosenbrock':\n",
    "        (x, y) = np.meshgrid((np.arange(-20.0, 20.0, 0.01), np.arange(-20.0, 20.0, 0.01))\n",
    "        z = rosenbrock_function([x, y])\n",
    "    if option == 'griewank':\n",
    "        (x, y) = np.meshgrid((np.arange(-60, 60, 1), np.arange(-60, 60, 1))\n",
    "        z = griewank_function([x, y])\n",
    "    if option == 'ackley':\n",
    "        (x, y) = np.meshgrid((np.arange(-60, 60, 1), np.arange(-60, 60, 1))\n",
    "        z = ackley_function([x, y])\n",
    "    \n",
    "    X = [p[0] for p in pop]\n",
    "    Y = [p[1] for p in pop]\n",
    "\n",
    "        \n",
    "    ax.scatter(X, Y)\n",
    "    ax.contour(x, y, z, cmap=cm.magma, alpha=0.3)\n",
    "    ax.set_title('{} {}'.format(option, iteration))\n",
    "    ax.set_xlabel('feature_x')\n",
    "    ax.set_ylabel('feature_y')\n",
    "    \n",
    "    if os.path.exists('./visualise/{}/{}/{}'.format(algorithm, option, num_individual)) == False:\n",
    "        os.makedirs('./visualise/{}/{}/{}'.format(algorithm, option, num_individual))\n",
    "    \n",
    "    fig.savefig('./visualise/{}/{}/{}/{}_{}.png'.format(algorithm, option, num_individual, seed, iteration))\n",
    "    plt.clf() \n",
    "    plt.cla()\n",
    "    plt.close()"
   ]
  },
  {
   "cell_type": "code",
   "execution_count": 381,
   "metadata": {},
   "outputs": [],
   "source": [
    "def get_gif(option, iteration, seed, num_individual):\n",
    "    \"\"\"\n",
    "    Hàm chuyển đổi tập hình ảnh *.png sang *.gif\n",
    "\n",
    "    Hàm sẽ đọc địa chỉ thư mục chứa thư mục cha của các ảnh sau đó lấy toàn bộ ảnh dựa\n",
    "    theo chỉ số iteration từ bé đến lớn sau đó merge lại thành một file gif. \n",
    "\n",
    "    Arguments: \n",
    "        pop: \n",
    "            Cho biết kích thước quần thể. \n",
    "        \n",
    "        target_function: \n",
    "            Cho biết thế hệ quần thể đang xét. \n",
    "     \n",
    "    Output: \n",
    "        Trả về một file gif tên <Hàm mục tiêu>_<Kích thước quần thể>.gif ngay thư mục thực thi ipynb. \n",
    "    \"\"\"\n",
    "    frames = [] \n",
    "    for i in range(0, iteration): \n",
    "        new_frame = Image.open('./visualise/{}/{}/{}/{}_{}.png'.format(algorithm, option, num_individual, seed, i))\n",
    "        frames.append(new_frame)\n",
    "        \n",
    "    frames[0].save('./visualise/{}/{}/{}_{}_{}_{}.gif'.format(option, algorithm, option, num_individual, seed), \n",
    "                       format='GIF', append_images=frames[1:], save_all=True, duration=300, loop=0)      "
   ]
  },
  {
   "cell_type": "markdown",
   "metadata": {},
   "source": [
    "## Bước 6: Kiểm tra hội tụ của hàm DE"
   ]
  },
  {
   "cell_type": "code",
   "execution_count": 382,
   "metadata": {},
   "outputs": [],
   "source": [
    "def convergence_de(pop_fitness): \n",
    "    eps = 1e-8\n",
    "    upper = np.all(pop_fitness <= pop_fitness[0] + eps)\n",
    "    lower = np.all(pop_fitness >= pop_fitness[0] - eps) \n",
    "    return upper and lower"
   ]
  },
  {
   "cell_type": "markdown",
   "metadata": {},
   "source": [
    "## Bước 7: Kiểm tra hội tụ của hàm ES"
   ]
  },
  {
   "cell_type": "code",
   "execution_count": 383,
   "metadata": {},
   "outputs": [],
   "source": [
    "def convergence_es(num_individual, result, logger):\n",
    "    eps = 1e-8\n",
    "    k_inds = int(math.log2(num_individual))\n",
    "    if len(result) <= k_inds:\n",
    "        return False\n",
    "    k_loggers = logger[-k_inds:]\n",
    "    fitness = [f for f in k_loggers]\n",
    "    min_fit = min(fitness)\n",
    "    max_fit = max(fitness)\n",
    "    return max_fit - min_fit <= eps"
   ]
  },
  {
   "cell_type": "markdown",
   "metadata": {},
   "source": [
    "## Bước 8: Điều kiện dừng hàm"
   ]
  },
  {
   "cell_type": "code",
   "execution_count": 384,
   "metadata": {},
   "outputs": [],
   "source": [
    "def stop(num_variable, iteration):\n",
    "    if num_variable == 2 and iteration == 100000:\n",
    "        return True\n",
    "    if num_variable == 10 and iteration == 1000000:\n",
    "        return True\n",
    "    return False"
   ]
  },
  {
   "cell_type": "markdown",
   "metadata": {},
   "source": [
    "## Bước 9: Hàm round"
   ]
  },
  {
   "cell_type": "code",
   "execution_count": 385,
   "metadata": {},
   "outputs": [],
   "source": [
    "def get_round(best_offspring):\n",
    "    arr = []\n",
    "    for i in best_offspring:\n",
    "        arr.append(round(i,5))\n",
    "    return arr"
   ]
  },
  {
   "cell_type": "markdown",
   "metadata": {},
   "source": [
    "## Bước 10: Khởi tạo thuật toán Differential Evolution"
   ]
  },
  {
   "cell_type": "code",
   "execution_count": 386,
   "metadata": {},
   "outputs": [],
   "source": [
    "def differential_evolution(pop, num_individual, num_variable, option, random_seed, algorithm, p=0.5, w=1):\n",
    "    iteration = 0\n",
    "    result = {}\n",
    "\n",
    "    global accumulative_call\n",
    "    accumulative_call = 0\n",
    "\n",
    "    pop_fitness = evaluate_population(pop, option, algorithm)\n",
    "\n",
    "    while convergence_de(pop_fitness) == False and stop(num_variable, iteration) == False:\n",
    "        iteration += 1\n",
    "        for k, ind in enumerate(pop): \n",
    "            candidates = [candidate for candidate in range(0, num_individual) if candidate != k]\n",
    "            a, b, c = pop[np.random.choice(candidates, 3, replace=False)] \n",
    "            z = a + w*(b-c)\n",
    "            j = np.random.randint(low=0, high=num_individual) \n",
    "\n",
    "            tmp_ind = [z[i] if (i == j or np.random.rand() < p) else ind[i] for i in range(0, len(ind))]\n",
    "\n",
    "            if evaluate_individual(tmp_ind, option) < evaluate_individual(ind, option): \n",
    "                pop[k] = tmp_ind\n",
    "                \n",
    "        pop_fitness = evaluate_population(pop, option)\n",
    "        index = pop_fitness.index(min(pop_fitness))\n",
    "        best_offspring = pop[index].tolist()\n",
    "\n",
    "        result['iteration {}'.format(iteration)] = {\n",
    "            'best_individual' : get_round(best_offspring),\n",
    "            'best_fitness' : round(pop_fitness[index], 5),\n",
    "            'num of evaluation in current': accumulative_call\n",
    "        }\n",
    "        visualise(pop, algorithm, iteration, option, random_seed)\n",
    "    return get_gif(option, iteration, random_seed, num_individual) \n",
    "    #return tocsv(result, num_individual, num_variable, option, random_seed, algorithm)"
   ]
  },
  {
   "cell_type": "markdown",
   "metadata": {},
   "source": [
    "## Bước 11: Khởi tạo thuật toán Evoluation Strategies"
   ]
  },
  {
   "cell_type": "code",
   "execution_count": 387,
   "metadata": {},
   "outputs": [],
   "source": [
    "def evolution_strategies(pop, num_individual, num_variable, option, bounds, random_seed, algorithm, c_inc=1.1, c_dec=0.6, step_size=1):\n",
    "    iteration = 0\n",
    "    logger = []\n",
    "    result = {} \n",
    "\n",
    "    global accumulative_call\n",
    "    accumulative_call = 0\n",
    "\n",
    "    #Đánh giá độ thích nghi của quần thể cha me\n",
    "    pop_fitness = evaluate_individual(pop, option)\n",
    "    logger.append(pop_fitness)\n",
    "\n",
    "    while convergence_es(num_individual, result, logger) == False and stop(num_variable, iteration) == False:\n",
    "        iteration += 1\n",
    "\n",
    "        #Tạo cá thể con\n",
    "        epsilon = np.random.randn(num_individual, len(bounds))\n",
    "        offspring = pop + step_size*epsilon\n",
    "        offspring = np.clip(offspring, bounds[:,0], bounds[:,1])\n",
    "\n",
    "        #Đánh giá cá thể con\n",
    "        offspring_fitness = evaluate_population(offspring, option, algorithm)\n",
    "        best_idx = offspring_fitness.index(min(offspring_fitness))\n",
    "        best_fitness = offspring_fitness[best_idx]\n",
    "        best_offspring = offspring[best_idx]\n",
    "        \n",
    "        #So sánh\n",
    "        if best_fitness <= pop_fitness:\n",
    "            pop = best_offspring.copy()\n",
    "            pop_fitness = best_fitness\n",
    "            step_size *= c_inc\n",
    "        else:\n",
    "            step_size *= c_dec\n",
    "\n",
    "        logger.append(best_fitness)\n",
    "        result['iteration {}'.format(iteration)] = {\n",
    "            'best_individual' : get_round(pop.tolist()),\n",
    "            'best_fitness' : round(best_fitness, 2),\n",
    "            'num of evaluation in current': accumulative_call\n",
    "        }\n",
    "        visualise(offspring, algorithm, iteration, option, random_seed)\n",
    "    return get_gif(option, iteration, random_seed, num_individual)     \n",
    "    #return tocsv(result, num_individual, num_variable, option, random_seed, algorithm)"
   ]
  },
  {
   "cell_type": "markdown",
   "metadata": {},
   "source": [
    "## Bước 12: Lựa chọn thuật toán để chạy"
   ]
  },
  {
   "cell_type": "code",
   "execution_count": 388,
   "metadata": {},
   "outputs": [],
   "source": [
    "def run_all(num_individual, num_variable, option, algorithm, random_seeds):\n",
    "    for random_seed in random_seeds:\n",
    "        accumulative_call = 0 \n",
    "        pop, bounds = initialize_population(num_individual, num_variable, option, algorithm, random_seed)\n",
    "        if algorithm == 'de': \n",
    "            differential_evolution(pop, num_individual, num_variable, option, random_seed, algorithm)\n",
    "        if algorithm == 'es':\n",
    "            evolution_strategies(pop, num_individual, num_variable, option, bounds, random_seed, algorithm)\n",
    "        #get_gif(pop, option)\n",
    "        "
   ]
  },
  {
   "cell_type": "code",
   "execution_count": null,
   "metadata": {},
   "outputs": [],
   "source": [
    "set_option = ['sphere', 'rastrigin', 'rosenbrock', 'griewank', 'ackley']\n",
    "random_seeds = [(19521281 + i) for i in range(0, 1)]\n",
    "num_individual = [32, 64, 128, 256, 512, 1024]\n",
    "for opt in set_option:    \n",
    "    for num in num_individual:\n",
    "        run_all(num, 2, opt, 'es', random_seeds)\n"
   ]
  }
 ],
 "metadata": {
  "interpreter": {
   "hash": "eea7e78ea1393ecc6f8341d2e72ea16df6697fc7cdcbf55aef647332e5c3cd59"
  },
  "kernelspec": {
   "display_name": "Python 3.8.8 64-bit ('base': conda)",
   "name": "python3"
  },
  "language_info": {
   "codemirror_mode": {
    "name": "ipython",
    "version": 3
   },
   "file_extension": ".py",
   "mimetype": "text/x-python",
   "name": "python",
   "nbconvert_exporter": "python",
   "pygments_lexer": "ipython3",
   "version": "3.8.8"
  },
  "orig_nbformat": 4
 },
 "nbformat": 4,
 "nbformat_minor": 2
}
